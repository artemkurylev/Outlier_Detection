{
  "nbformat": 4,
  "nbformat_minor": 0,
  "metadata": {
    "colab": {
      "name": "AML Project",
      "provenance": [],
      "collapsed_sections": [],
      "include_colab_link": true
    },
    "kernelspec": {
      "name": "python3",
      "display_name": "Python 3"
    },
    "accelerator": "GPU"
  },
  "cells": [
    {
      "cell_type": "markdown",
      "metadata": {
        "id": "view-in-github",
        "colab_type": "text"
      },
      "source": [
        "<a href=\"https://colab.research.google.com/github/artemkurylev/Outlier_Detection/blob/master/AML_Project.ipynb\" target=\"_parent\"><img src=\"https://colab.research.google.com/assets/colab-badge.svg\" alt=\"Open In Colab\"/></a>"
      ]
    },
    {
      "cell_type": "code",
      "metadata": {
        "id": "SnwQ7w33Lpek",
        "colab_type": "code",
        "outputId": "1c459a42-f79a-494d-c3f4-6acdb1be66e1",
        "colab": {
          "base_uri": "https://localhost:8080/",
          "height": 202
        }
      },
      "source": [
        "! wget -O data.csv https://www.openml.org/data/get_csv/52214/phpn1jVwe"
      ],
      "execution_count": 1,
      "outputs": [
        {
          "output_type": "stream",
          "text": [
            "--2020-04-03 08:34:37--  https://www.openml.org/data/get_csv/52214/phpn1jVwe\n",
            "Resolving www.openml.org (www.openml.org)... 131.155.11.11\n",
            "Connecting to www.openml.org (www.openml.org)|131.155.11.11|:443... connected.\n",
            "HTTP request sent, awaiting response... 200 OK\n",
            "Length: unspecified [text/plain]\n",
            "Saving to: ‘data.csv’\n",
            "\n",
            "data.csv                [   <=>              ] 808.56K  1.50MB/s    in 0.5s    \n",
            "\n",
            "2020-04-03 08:34:38 (1.50 MB/s) - ‘data.csv’ saved [827961]\n",
            "\n"
          ],
          "name": "stdout"
        }
      ]
    },
    {
      "cell_type": "code",
      "metadata": {
        "id": "dyGIzPMDMSpp",
        "colab_type": "code",
        "colab": {}
      },
      "source": [
        "import pandas as pd\n",
        "from matplotlib import pyplot as plt\n",
        "import torch\n",
        "from torch.utils.data import TensorDataset\n",
        "import torch.nn as nn\n",
        "from torch.functional import F\n",
        "import torch.optim as optim\n",
        "from sklearn.model_selection import train_test_split\n",
        "from sklearn.metrics import confusion_matrix\n",
        "import numpy as np\n",
        "import seaborn as sns\n",
        "from sklearn.metrics import classification_report\n",
        "from sklearn.preprocessing import MinMaxScaler\n",
        "from sklearn.utils import shuffle\n",
        "%matplotlib inline"
      ],
      "execution_count": 0,
      "outputs": []
    },
    {
      "cell_type": "code",
      "metadata": {
        "id": "i65USE-vMYyb",
        "colab_type": "code",
        "colab": {}
      },
      "source": [
        "df = pd.read_csv(\"data.csv\")"
      ],
      "execution_count": 0,
      "outputs": []
    },
    {
      "cell_type": "code",
      "metadata": {
        "id": "QAHZYWL6McYO",
        "colab_type": "code",
        "outputId": "e5785c05-ef5b-4f1b-cbc7-e50eaf67d551",
        "colab": {
          "base_uri": "https://localhost:8080/",
          "height": 195
        }
      },
      "source": [
        "df.head()"
      ],
      "execution_count": 57,
      "outputs": [
        {
          "output_type": "execute_result",
          "data": {
            "text/html": [
              "<div>\n",
              "<style scoped>\n",
              "    .dataframe tbody tr th:only-of-type {\n",
              "        vertical-align: middle;\n",
              "    }\n",
              "\n",
              "    .dataframe tbody tr th {\n",
              "        vertical-align: top;\n",
              "    }\n",
              "\n",
              "    .dataframe thead th {\n",
              "        text-align: right;\n",
              "    }\n",
              "</style>\n",
              "<table border=\"1\" class=\"dataframe\">\n",
              "  <thead>\n",
              "    <tr style=\"text-align: right;\">\n",
              "      <th></th>\n",
              "      <th>attr1</th>\n",
              "      <th>attr2</th>\n",
              "      <th>attr3</th>\n",
              "      <th>attr4</th>\n",
              "      <th>attr5</th>\n",
              "      <th>attr6</th>\n",
              "      <th>class</th>\n",
              "    </tr>\n",
              "  </thead>\n",
              "  <tbody>\n",
              "    <tr>\n",
              "      <th>0</th>\n",
              "      <td>0.230020</td>\n",
              "      <td>5.072578</td>\n",
              "      <td>-0.276061</td>\n",
              "      <td>0.832444</td>\n",
              "      <td>-0.377866</td>\n",
              "      <td>0.480322</td>\n",
              "      <td>'-1'</td>\n",
              "    </tr>\n",
              "    <tr>\n",
              "      <th>1</th>\n",
              "      <td>0.155491</td>\n",
              "      <td>-0.169390</td>\n",
              "      <td>0.670652</td>\n",
              "      <td>-0.859553</td>\n",
              "      <td>-0.377866</td>\n",
              "      <td>-0.945723</td>\n",
              "      <td>'-1'</td>\n",
              "    </tr>\n",
              "    <tr>\n",
              "      <th>2</th>\n",
              "      <td>-0.784415</td>\n",
              "      <td>-0.443654</td>\n",
              "      <td>5.674705</td>\n",
              "      <td>-0.859553</td>\n",
              "      <td>-0.377866</td>\n",
              "      <td>-0.945723</td>\n",
              "      <td>'-1'</td>\n",
              "    </tr>\n",
              "    <tr>\n",
              "      <th>3</th>\n",
              "      <td>0.546088</td>\n",
              "      <td>0.131415</td>\n",
              "      <td>-0.456387</td>\n",
              "      <td>-0.859553</td>\n",
              "      <td>-0.377866</td>\n",
              "      <td>-0.945723</td>\n",
              "      <td>'-1'</td>\n",
              "    </tr>\n",
              "    <tr>\n",
              "      <th>4</th>\n",
              "      <td>-0.102987</td>\n",
              "      <td>-0.394994</td>\n",
              "      <td>-0.140816</td>\n",
              "      <td>0.979703</td>\n",
              "      <td>-0.377866</td>\n",
              "      <td>1.013566</td>\n",
              "      <td>'-1'</td>\n",
              "    </tr>\n",
              "  </tbody>\n",
              "</table>\n",
              "</div>"
            ],
            "text/plain": [
              "      attr1     attr2     attr3     attr4     attr5     attr6 class\n",
              "0  0.230020  5.072578 -0.276061  0.832444 -0.377866  0.480322  '-1'\n",
              "1  0.155491 -0.169390  0.670652 -0.859553 -0.377866 -0.945723  '-1'\n",
              "2 -0.784415 -0.443654  5.674705 -0.859553 -0.377866 -0.945723  '-1'\n",
              "3  0.546088  0.131415 -0.456387 -0.859553 -0.377866 -0.945723  '-1'\n",
              "4 -0.102987 -0.394994 -0.140816  0.979703 -0.377866  1.013566  '-1'"
            ]
          },
          "metadata": {
            "tags": []
          },
          "execution_count": 57
        }
      ]
    },
    {
      "cell_type": "code",
      "metadata": {
        "id": "yz556CipMgej",
        "colab_type": "code",
        "outputId": "d7d6f11e-4210-4199-eca3-d000e364f6fb",
        "colab": {
          "base_uri": "https://localhost:8080/",
          "height": 252
        }
      },
      "source": [
        "df.info()"
      ],
      "execution_count": 58,
      "outputs": [
        {
          "output_type": "stream",
          "text": [
            "<class 'pandas.core.frame.DataFrame'>\n",
            "RangeIndex: 11183 entries, 0 to 11182\n",
            "Data columns (total 7 columns):\n",
            " #   Column  Non-Null Count  Dtype  \n",
            "---  ------  --------------  -----  \n",
            " 0   attr1   11183 non-null  float64\n",
            " 1   attr2   11183 non-null  float64\n",
            " 2   attr3   11183 non-null  float64\n",
            " 3   attr4   11183 non-null  float64\n",
            " 4   attr5   11183 non-null  float64\n",
            " 5   attr6   11183 non-null  float64\n",
            " 6   class   11183 non-null  object \n",
            "dtypes: float64(6), object(1)\n",
            "memory usage: 611.7+ KB\n"
          ],
          "name": "stdout"
        }
      ]
    },
    {
      "cell_type": "code",
      "metadata": {
        "id": "WZWunL3KMjma",
        "colab_type": "code",
        "outputId": "fa31f021-fbc1-4fc8-82d7-65264716f860",
        "colab": {
          "base_uri": "https://localhost:8080/",
          "height": 284
        }
      },
      "source": [
        "df.describe()"
      ],
      "execution_count": 59,
      "outputs": [
        {
          "output_type": "execute_result",
          "data": {
            "text/html": [
              "<div>\n",
              "<style scoped>\n",
              "    .dataframe tbody tr th:only-of-type {\n",
              "        vertical-align: middle;\n",
              "    }\n",
              "\n",
              "    .dataframe tbody tr th {\n",
              "        vertical-align: top;\n",
              "    }\n",
              "\n",
              "    .dataframe thead th {\n",
              "        text-align: right;\n",
              "    }\n",
              "</style>\n",
              "<table border=\"1\" class=\"dataframe\">\n",
              "  <thead>\n",
              "    <tr style=\"text-align: right;\">\n",
              "      <th></th>\n",
              "      <th>attr1</th>\n",
              "      <th>attr2</th>\n",
              "      <th>attr3</th>\n",
              "      <th>attr4</th>\n",
              "      <th>attr5</th>\n",
              "      <th>attr6</th>\n",
              "    </tr>\n",
              "  </thead>\n",
              "  <tbody>\n",
              "    <tr>\n",
              "      <th>count</th>\n",
              "      <td>1.118300e+04</td>\n",
              "      <td>1.118300e+04</td>\n",
              "      <td>1.118300e+04</td>\n",
              "      <td>1.118300e+04</td>\n",
              "      <td>1.118300e+04</td>\n",
              "      <td>1.118300e+04</td>\n",
              "    </tr>\n",
              "    <tr>\n",
              "      <th>mean</th>\n",
              "      <td>1.096535e-10</td>\n",
              "      <td>1.297595e-09</td>\n",
              "      <td>5.698113e-10</td>\n",
              "      <td>-2.435705e-09</td>\n",
              "      <td>-1.120680e-09</td>\n",
              "      <td>1.459483e-09</td>\n",
              "    </tr>\n",
              "    <tr>\n",
              "      <th>std</th>\n",
              "      <td>1.000000e+00</td>\n",
              "      <td>1.000000e+00</td>\n",
              "      <td>1.000000e+00</td>\n",
              "      <td>1.000000e+00</td>\n",
              "      <td>1.000000e+00</td>\n",
              "      <td>1.000000e+00</td>\n",
              "    </tr>\n",
              "    <tr>\n",
              "      <th>min</th>\n",
              "      <td>-7.844148e-01</td>\n",
              "      <td>-4.701953e-01</td>\n",
              "      <td>-5.916315e-01</td>\n",
              "      <td>-8.595525e-01</td>\n",
              "      <td>-3.778657e-01</td>\n",
              "      <td>-9.457232e-01</td>\n",
              "    </tr>\n",
              "    <tr>\n",
              "      <th>25%</th>\n",
              "      <td>-7.844148e-01</td>\n",
              "      <td>-4.701953e-01</td>\n",
              "      <td>-5.916315e-01</td>\n",
              "      <td>-8.595525e-01</td>\n",
              "      <td>-3.778657e-01</td>\n",
              "      <td>-9.457232e-01</td>\n",
              "    </tr>\n",
              "    <tr>\n",
              "      <th>50%</th>\n",
              "      <td>-1.085769e-01</td>\n",
              "      <td>-3.949941e-01</td>\n",
              "      <td>-2.309790e-01</td>\n",
              "      <td>-8.595525e-01</td>\n",
              "      <td>-3.778657e-01</td>\n",
              "      <td>-9.457232e-01</td>\n",
              "    </tr>\n",
              "    <tr>\n",
              "      <th>75%</th>\n",
              "      <td>3.139489e-01</td>\n",
              "      <td>-7.649473e-02</td>\n",
              "      <td>2.198366e-01</td>\n",
              "      <td>8.202077e-01</td>\n",
              "      <td>-3.778657e-01</td>\n",
              "      <td>1.016613e+00</td>\n",
              "    </tr>\n",
              "    <tr>\n",
              "      <th>max</th>\n",
              "      <td>3.150844e+01</td>\n",
              "      <td>5.085849e+00</td>\n",
              "      <td>2.947777e+01</td>\n",
              "      <td>9.591164e+00</td>\n",
              "      <td>2.361712e+01</td>\n",
              "      <td>1.949027e+00</td>\n",
              "    </tr>\n",
              "  </tbody>\n",
              "</table>\n",
              "</div>"
            ],
            "text/plain": [
              "              attr1         attr2  ...         attr5         attr6\n",
              "count  1.118300e+04  1.118300e+04  ...  1.118300e+04  1.118300e+04\n",
              "mean   1.096535e-10  1.297595e-09  ... -1.120680e-09  1.459483e-09\n",
              "std    1.000000e+00  1.000000e+00  ...  1.000000e+00  1.000000e+00\n",
              "min   -7.844148e-01 -4.701953e-01  ... -3.778657e-01 -9.457232e-01\n",
              "25%   -7.844148e-01 -4.701953e-01  ... -3.778657e-01 -9.457232e-01\n",
              "50%   -1.085769e-01 -3.949941e-01  ... -3.778657e-01 -9.457232e-01\n",
              "75%    3.139489e-01 -7.649473e-02  ... -3.778657e-01  1.016613e+00\n",
              "max    3.150844e+01  5.085849e+00  ...  2.361712e+01  1.949027e+00\n",
              "\n",
              "[8 rows x 6 columns]"
            ]
          },
          "metadata": {
            "tags": []
          },
          "execution_count": 59
        }
      ]
    },
    {
      "cell_type": "code",
      "metadata": {
        "id": "qmggsBATMnw_",
        "colab_type": "code",
        "outputId": "47df1e14-9429-4a24-91d8-cbf5afadae7f",
        "colab": {
          "base_uri": "https://localhost:8080/",
          "height": 290
        }
      },
      "source": [
        "df['class'].hist()"
      ],
      "execution_count": 60,
      "outputs": [
        {
          "output_type": "execute_result",
          "data": {
            "text/plain": [
              "<matplotlib.axes._subplots.AxesSubplot at 0x7f88cdae5748>"
            ]
          },
          "metadata": {
            "tags": []
          },
          "execution_count": 60
        },
        {
          "output_type": "display_data",
          "data": {
            "image/png": "[encoded data removed]",
            "text/plain": [
              "<Figure size 432x288 with 1 Axes>"
            ]
          },
          "metadata": {
            "tags": []
          }
        }
      ]
    },
    {
      "cell_type": "code",
      "metadata": {
        "id": "NcfYNQeKNOuc",
        "colab_type": "code",
        "outputId": "0a5c45fc-dd0a-49c9-b88e-506c98ff1a82",
        "colab": {
          "base_uri": "https://localhost:8080/",
          "height": 195
        }
      },
      "source": [
        "df['target'] = df['class'].apply(lambda x : 0 if x == \"'-1'\" else 1)\n",
        "df.head()"
      ],
      "execution_count": 61,
      "outputs": [
        {
          "output_type": "execute_result",
          "data": {
            "text/html": [
              "<div>\n",
              "<style scoped>\n",
              "    .dataframe tbody tr th:only-of-type {\n",
              "        vertical-align: middle;\n",
              "    }\n",
              "\n",
              "    .dataframe tbody tr th {\n",
              "        vertical-align: top;\n",
              "    }\n",
              "\n",
              "    .dataframe thead th {\n",
              "        text-align: right;\n",
              "    }\n",
              "</style>\n",
              "<table border=\"1\" class=\"dataframe\">\n",
              "  <thead>\n",
              "    <tr style=\"text-align: right;\">\n",
              "      <th></th>\n",
              "      <th>attr1</th>\n",
              "      <th>attr2</th>\n",
              "      <th>attr3</th>\n",
              "      <th>attr4</th>\n",
              "      <th>attr5</th>\n",
              "      <th>attr6</th>\n",
              "      <th>class</th>\n",
              "      <th>target</th>\n",
              "    </tr>\n",
              "  </thead>\n",
              "  <tbody>\n",
              "    <tr>\n",
              "      <th>0</th>\n",
              "      <td>0.230020</td>\n",
              "      <td>5.072578</td>\n",
              "      <td>-0.276061</td>\n",
              "      <td>0.832444</td>\n",
              "      <td>-0.377866</td>\n",
              "      <td>0.480322</td>\n",
              "      <td>'-1'</td>\n",
              "      <td>0</td>\n",
              "    </tr>\n",
              "    <tr>\n",
              "      <th>1</th>\n",
              "      <td>0.155491</td>\n",
              "      <td>-0.169390</td>\n",
              "      <td>0.670652</td>\n",
              "      <td>-0.859553</td>\n",
              "      <td>-0.377866</td>\n",
              "      <td>-0.945723</td>\n",
              "      <td>'-1'</td>\n",
              "      <td>0</td>\n",
              "    </tr>\n",
              "    <tr>\n",
              "      <th>2</th>\n",
              "      <td>-0.784415</td>\n",
              "      <td>-0.443654</td>\n",
              "      <td>5.674705</td>\n",
              "      <td>-0.859553</td>\n",
              "      <td>-0.377866</td>\n",
              "      <td>-0.945723</td>\n",
              "      <td>'-1'</td>\n",
              "      <td>0</td>\n",
              "    </tr>\n",
              "    <tr>\n",
              "      <th>3</th>\n",
              "      <td>0.546088</td>\n",
              "      <td>0.131415</td>\n",
              "      <td>-0.456387</td>\n",
              "      <td>-0.859553</td>\n",
              "      <td>-0.377866</td>\n",
              "      <td>-0.945723</td>\n",
              "      <td>'-1'</td>\n",
              "      <td>0</td>\n",
              "    </tr>\n",
              "    <tr>\n",
              "      <th>4</th>\n",
              "      <td>-0.102987</td>\n",
              "      <td>-0.394994</td>\n",
              "      <td>-0.140816</td>\n",
              "      <td>0.979703</td>\n",
              "      <td>-0.377866</td>\n",
              "      <td>1.013566</td>\n",
              "      <td>'-1'</td>\n",
              "      <td>0</td>\n",
              "    </tr>\n",
              "  </tbody>\n",
              "</table>\n",
              "</div>"
            ],
            "text/plain": [
              "      attr1     attr2     attr3     attr4     attr5     attr6 class  target\n",
              "0  0.230020  5.072578 -0.276061  0.832444 -0.377866  0.480322  '-1'       0\n",
              "1  0.155491 -0.169390  0.670652 -0.859553 -0.377866 -0.945723  '-1'       0\n",
              "2 -0.784415 -0.443654  5.674705 -0.859553 -0.377866 -0.945723  '-1'       0\n",
              "3  0.546088  0.131415 -0.456387 -0.859553 -0.377866 -0.945723  '-1'       0\n",
              "4 -0.102987 -0.394994 -0.140816  0.979703 -0.377866  1.013566  '-1'       0"
            ]
          },
          "metadata": {
            "tags": []
          },
          "execution_count": 61
        }
      ]
    },
    {
      "cell_type": "code",
      "metadata": {
        "id": "WG3lv0y6UJNk",
        "colab_type": "code",
        "colab": {}
      },
      "source": [
        "X = df[['attr1','attr2','attr3','attr4','attr5','attr6']]\n",
        "Y = df[['target']]"
      ],
      "execution_count": 0,
      "outputs": []
    },
    {
      "cell_type": "code",
      "metadata": {
        "id": "BHvPjEPC0BlR",
        "colab_type": "code",
        "outputId": "4f1b8d8c-705a-4179-c276-fb0d40c001fd",
        "colab": {
          "base_uri": "https://localhost:8080/",
          "height": 34
        }
      },
      "source": [
        "Y['target'].unique()"
      ],
      "execution_count": 63,
      "outputs": [
        {
          "output_type": "execute_result",
          "data": {
            "text/plain": [
              "array([0, 1])"
            ]
          },
          "metadata": {
            "tags": []
          },
          "execution_count": 63
        }
      ]
    },
    {
      "cell_type": "code",
      "metadata": {
        "id": "-q3D6v-V4uAM",
        "colab_type": "code",
        "outputId": "a71dfd2a-1ff2-4ed4-8e0d-bfe2ea03d223",
        "colab": {
          "base_uri": "https://localhost:8080/",
          "height": 290
        }
      },
      "source": [
        "Y['target'].hist()"
      ],
      "execution_count": 64,
      "outputs": [
        {
          "output_type": "execute_result",
          "data": {
            "text/plain": [
              "<matplotlib.axes._subplots.AxesSubplot at 0x7f88cd9955c0>"
            ]
          },
          "metadata": {
            "tags": []
          },
          "execution_count": 64
        },
        {
          "output_type": "display_data",
          "data": {
            "image/png": "[encoded data removed]",
            "text/plain": [
              "<Figure size 432x288 with 1 Axes>"
            ]
          },
          "metadata": {
            "tags": []
          }
        }
      ]
    },
    {
      "cell_type": "code",
      "metadata": {
        "id": "rXxEq4mL4LxG",
        "colab_type": "code",
        "outputId": "edd491fa-2df4-410c-961e-72a08b090876",
        "colab": {
          "base_uri": "https://localhost:8080/",
          "height": 34
        }
      },
      "source": [
        "from collections import Counter\n",
        "Counter(Y['target'])"
      ],
      "execution_count": 65,
      "outputs": [
        {
          "output_type": "execute_result",
          "data": {
            "text/plain": [
              "Counter({0: 10923, 1: 260})"
            ]
          },
          "metadata": {
            "tags": []
          },
          "execution_count": 65
        }
      ]
    },
    {
      "cell_type": "markdown",
      "metadata": {
        "id": "e92YQmEZOtsu",
        "colab_type": "text"
      },
      "source": [
        "#### Normalization\n"
      ]
    },
    {
      "cell_type": "code",
      "metadata": {
        "id": "WST8KoCwOvtX",
        "colab_type": "code",
        "colab": {}
      },
      "source": [
        "x = X.values #returns a numpy array\n",
        "min_max_scaler = MinMaxScaler()\n",
        "x_scaled = min_max_scaler.fit_transform(x)\n",
        "X = pd.DataFrame(x_scaled)"
      ],
      "execution_count": 0,
      "outputs": []
    },
    {
      "cell_type": "code",
      "metadata": {
        "id": "GJvN_nc6Tum0",
        "colab_type": "code",
        "colab": {}
      },
      "source": [
        "X_train, X_test, y_train, y_test = train_test_split(X, Y, test_size=0.2, random_state=42, stratify=Y)"
      ],
      "execution_count": 0,
      "outputs": []
    },
    {
      "cell_type": "markdown",
      "metadata": {
        "id": "HLfCzx2HM-tC",
        "colab_type": "text"
      },
      "source": [
        "#### Oversampling"
      ]
    },
    {
      "cell_type": "code",
      "metadata": {
        "id": "9YA8wEIzNB4y",
        "colab_type": "code",
        "colab": {
          "base_uri": "https://localhost:8080/",
          "height": 70
        },
        "outputId": "de0024fb-eca0-425e-c124-2ab492659b71"
      },
      "source": [
        "from imblearn.over_sampling import RandomOverSampler\n",
        "ros = RandomOverSampler(random_state=0)\n",
        "X_resampled, y_resampled = ros.fit_resample(X_train, y_train.to_numpy().ravel())\n",
        "X_resampled, y_resampled = shuffle(X_resampled,y_resampled)"
      ],
      "execution_count": 71,
      "outputs": [
        {
          "output_type": "stream",
          "text": [
            "/usr/local/lib/python3.6/dist-packages/sklearn/utils/deprecation.py:87: FutureWarning: Function safe_indexing is deprecated; safe_indexing is deprecated in version 0.22 and will be removed in version 0.24.\n",
            "  warnings.warn(msg, category=FutureWarning)\n"
          ],
          "name": "stderr"
        }
      ]
    },
    {
      "cell_type": "code",
      "metadata": {
        "id": "U39CPWI8R3ku",
        "colab_type": "code",
        "colab": {}
      },
      "source": [
        "train_dataset = TensorDataset(torch.Tensor(X_resampled), torch.Tensor(y_resampled.reshape(y_resampled.shape[0],-1)))\n",
        "test_dataset = TensorDataset(torch.Tensor(X_test.to_numpy()), torch.Tensor(y_test.to_numpy()))"
      ],
      "execution_count": 0,
      "outputs": []
    },
    {
      "cell_type": "code",
      "metadata": {
        "id": "7UeeH5dFUzey",
        "colab_type": "code",
        "colab": {}
      },
      "source": [
        "batch_size = 10"
      ],
      "execution_count": 0,
      "outputs": []
    },
    {
      "cell_type": "code",
      "metadata": {
        "id": "otvl8oViUiHj",
        "colab_type": "code",
        "colab": {}
      },
      "source": [
        "data_loader = torch.utils.data.DataLoader(train_dataset,batch_size)\n",
        "test_loader = torch.utils.data.DataLoader(test_dataset, batch_size)"
      ],
      "execution_count": 0,
      "outputs": []
    },
    {
      "cell_type": "code",
      "metadata": {
        "id": "7yem4BPXU-ly",
        "colab_type": "code",
        "colab": {}
      },
      "source": [
        "class Baseline(nn.Module):\n",
        "  def __init__(self):\n",
        "    super(Baseline,self).__init__()\n",
        "    self.fc1 = nn.Sequential(\n",
        "        nn.Linear(6,128),\n",
        "        nn.LeakyReLU(),\n",
        "        nn.Linear(128,1024),\n",
        "        nn.LeakyReLU(),\n",
        "        nn.Linear(1024,1024),\n",
        "        nn.LeakyReLU(),\n",
        "        nn.Linear(1024,1)\n",
        "    )\n",
        "  def forward(self,x):\n",
        "    out = self.fc1(x)\n",
        "    #out = torch.sigmoid(out)\n",
        "    \n",
        "    return out"
      ],
      "execution_count": 0,
      "outputs": []
    },
    {
      "cell_type": "markdown",
      "metadata": {
        "id": "GBTW0YS_I1Nq",
        "colab_type": "text"
      },
      "source": [
        "#### Cuda"
      ]
    },
    {
      "cell_type": "code",
      "metadata": {
        "id": "EtZlkOnYWeoy",
        "colab_type": "code",
        "colab": {}
      },
      "source": [
        "cuda = True if torch.cuda.is_available() else False\n",
        "device = 'cuda' if cuda else 'cpu'"
      ],
      "execution_count": 0,
      "outputs": []
    },
    {
      "cell_type": "markdown",
      "metadata": {
        "id": "ggVYd8YEIvY-",
        "colab_type": "text"
      },
      "source": [
        "#### Weight initialization"
      ]
    },
    {
      "cell_type": "code",
      "metadata": {
        "id": "uIe9GkxtIs7P",
        "colab_type": "code",
        "colab": {}
      },
      "source": [
        "def init_weights(m):\n",
        "    if type(m) == nn.Linear:\n",
        "        torch.nn.init.xavier_uniform_(m.weight)"
      ],
      "execution_count": 0,
      "outputs": []
    },
    {
      "cell_type": "code",
      "metadata": {
        "id": "qMnMY20tWmZD",
        "colab_type": "code",
        "colab": {
          "base_uri": "https://localhost:8080/",
          "height": 168
        },
        "outputId": "11df4a35-f2de-4515-e2e6-73ea4c95f32e"
      },
      "source": [
        "baseline = Baseline()\n",
        "if cuda:\n",
        "  baseline.cuda()\n",
        "baseline.fc1.apply(init_weights)"
      ],
      "execution_count": 104,
      "outputs": [
        {
          "output_type": "execute_result",
          "data": {
            "text/plain": [
              "Sequential(\n",
              "  (0): Linear(in_features=6, out_features=128, bias=True)\n",
              "  (1): LeakyReLU(negative_slope=0.01)\n",
              "  (2): Linear(in_features=128, out_features=1024, bias=True)\n",
              "  (3): LeakyReLU(negative_slope=0.01)\n",
              "  (4): Linear(in_features=1024, out_features=1024, bias=True)\n",
              "  (5): LeakyReLU(negative_slope=0.01)\n",
              "  (6): Linear(in_features=1024, out_features=1, bias=True)\n",
              ")"
            ]
          },
          "metadata": {
            "tags": []
          },
          "execution_count": 104
        }
      ]
    },
    {
      "cell_type": "code",
      "metadata": {
        "id": "oodLXuStW5bj",
        "colab_type": "code",
        "colab": {}
      },
      "source": [
        "lr = 0.01\n",
        "optimizer = optim.Adam(baseline.parameters(), lr=lr)"
      ],
      "execution_count": 0,
      "outputs": []
    },
    {
      "cell_type": "code",
      "metadata": {
        "id": "odH1lfGWXLQX",
        "colab_type": "code",
        "outputId": "c1841496-985e-4c3b-ce21-d5afc5ea28e4",
        "colab": {
          "base_uri": "https://localhost:8080/",
          "height": 1000
        }
      },
      "source": [
        "n_epochs = 25\n",
        "n_print = 100\n",
        "\n",
        "for epoch in range(n_epochs):\n",
        "  total, correct = 0, 0\n",
        "  baseline.train()\n",
        "  criterion = nn.BCEWithLogitsLoss()\n",
        "  for i, (data,target) in enumerate(data_loader):\n",
        "    optimizer.zero_grad()\n",
        "    output = baseline(data.to(device))\n",
        "    loss =  criterion(output.float(),target.to(device))\n",
        "    loss.backward()\n",
        "\n",
        "    # Compute train accuracy\n",
        "    _, predicted = torch.max(output.data, 1)\n",
        "    batch_total = target.size(0)\n",
        "    total += batch_total\n",
        "    #print(output.data == target.data)\n",
        "    batch_correct = (torch.round(torch.sigmoid(output.data)) == target.to(device).data).sum()\n",
        "    correct += batch_correct\n",
        "    optimizer.step()\n",
        "\n",
        "    if (i + 1) % n_print == 0:\n",
        "      print('Epoch [%d/%d], Step [%d/%d], Loss: %.4f'\n",
        "            % (epoch + 1, n_epochs, i + 1, len(train_dataset) // batch_size, loss.item()))\n",
        "  print(\"correct: {}\\ntotal: {}\".format(correct, total))\n",
        "  print(\"Accuracy on Epoch[{}/{}]: {}%\".format(epoch + 1, n_epochs, 100* correct/total ))\n"
      ],
      "execution_count": 125,
      "outputs": [
        {
          "output_type": "stream",
          "text": [
            "Epoch [1/25], Step [100/1747], Loss: 0.5848\n",
            "Epoch [1/25], Step [200/1747], Loss: 0.0336\n",
            "Epoch [1/25], Step [300/1747], Loss: 0.3155\n",
            "Epoch [1/25], Step [400/1747], Loss: 0.1086\n",
            "Epoch [1/25], Step [500/1747], Loss: 0.0352\n",
            "Epoch [1/25], Step [600/1747], Loss: 0.0598\n",
            "Epoch [1/25], Step [700/1747], Loss: 0.0848\n",
            "Epoch [1/25], Step [800/1747], Loss: 0.0661\n",
            "Epoch [1/25], Step [900/1747], Loss: 0.0522\n",
            "Epoch [1/25], Step [1000/1747], Loss: 0.5603\n",
            "Epoch [1/25], Step [1100/1747], Loss: 0.0274\n",
            "Epoch [1/25], Step [1200/1747], Loss: 0.3574\n",
            "Epoch [1/25], Step [1300/1747], Loss: 0.1292\n",
            "Epoch [1/25], Step [1400/1747], Loss: 0.1849\n",
            "Epoch [1/25], Step [1500/1747], Loss: 0.4459\n",
            "Epoch [1/25], Step [1600/1747], Loss: 0.0638\n",
            "Epoch [1/25], Step [1700/1747], Loss: 0.2908\n",
            "correct: 15692\n",
            "total: 17476\n",
            "Accuracy on Epoch[1/25]: 89%\n",
            "Epoch [2/25], Step [100/1747], Loss: 0.6368\n",
            "Epoch [2/25], Step [200/1747], Loss: 0.0497\n",
            "Epoch [2/25], Step [300/1747], Loss: 0.2981\n",
            "Epoch [2/25], Step [400/1747], Loss: 0.1466\n",
            "Epoch [2/25], Step [500/1747], Loss: 0.0204\n",
            "Epoch [2/25], Step [600/1747], Loss: 0.0788\n",
            "Epoch [2/25], Step [700/1747], Loss: 0.0644\n",
            "Epoch [2/25], Step [800/1747], Loss: 0.0724\n",
            "Epoch [2/25], Step [900/1747], Loss: 0.0634\n",
            "Epoch [2/25], Step [1000/1747], Loss: 0.5376\n",
            "Epoch [2/25], Step [1100/1747], Loss: 0.0456\n",
            "Epoch [2/25], Step [1200/1747], Loss: 0.4017\n",
            "Epoch [2/25], Step [1300/1747], Loss: 0.1353\n",
            "Epoch [2/25], Step [1400/1747], Loss: 0.1372\n",
            "Epoch [2/25], Step [1500/1747], Loss: 0.4611\n",
            "Epoch [2/25], Step [1600/1747], Loss: 0.0569\n",
            "Epoch [2/25], Step [1700/1747], Loss: 0.5427\n",
            "correct: 15690\n",
            "total: 17476\n",
            "Accuracy on Epoch[2/25]: 89%\n",
            "Epoch [3/25], Step [100/1747], Loss: 0.4887\n",
            "Epoch [3/25], Step [200/1747], Loss: 0.0631\n",
            "Epoch [3/25], Step [300/1747], Loss: 0.2061\n",
            "Epoch [3/25], Step [400/1747], Loss: 0.1156\n",
            "Epoch [3/25], Step [500/1747], Loss: 0.0341\n",
            "Epoch [3/25], Step [600/1747], Loss: 0.0359\n",
            "Epoch [3/25], Step [700/1747], Loss: 0.0794\n",
            "Epoch [3/25], Step [800/1747], Loss: 0.0466\n",
            "Epoch [3/25], Step [900/1747], Loss: 0.0486\n",
            "Epoch [3/25], Step [1000/1747], Loss: 0.4956\n",
            "Epoch [3/25], Step [1100/1747], Loss: 0.2773\n",
            "Epoch [3/25], Step [1200/1747], Loss: 0.3690\n",
            "Epoch [3/25], Step [1300/1747], Loss: 0.2587\n",
            "Epoch [3/25], Step [1400/1747], Loss: 0.1168\n",
            "Epoch [3/25], Step [1500/1747], Loss: 0.4711\n",
            "Epoch [3/25], Step [1600/1747], Loss: 0.0423\n",
            "Epoch [3/25], Step [1700/1747], Loss: 0.5057\n",
            "correct: 15577\n",
            "total: 17476\n",
            "Accuracy on Epoch[3/25]: 89%\n",
            "Epoch [4/25], Step [100/1747], Loss: 0.6309\n",
            "Epoch [4/25], Step [200/1747], Loss: 0.0248\n",
            "Epoch [4/25], Step [300/1747], Loss: 0.1919\n",
            "Epoch [4/25], Step [400/1747], Loss: 0.1570\n",
            "Epoch [4/25], Step [500/1747], Loss: 0.0344\n",
            "Epoch [4/25], Step [600/1747], Loss: 0.0865\n",
            "Epoch [4/25], Step [700/1747], Loss: 0.0463\n",
            "Epoch [4/25], Step [800/1747], Loss: 0.0764\n",
            "Epoch [4/25], Step [900/1747], Loss: 0.0763\n",
            "Epoch [4/25], Step [1000/1747], Loss: 0.5122\n",
            "Epoch [4/25], Step [1100/1747], Loss: 0.0273\n",
            "Epoch [4/25], Step [1200/1747], Loss: 0.2664\n",
            "Epoch [4/25], Step [1300/1747], Loss: 0.0963\n",
            "Epoch [4/25], Step [1400/1747], Loss: 0.0919\n",
            "Epoch [4/25], Step [1500/1747], Loss: 0.5328\n",
            "Epoch [4/25], Step [1600/1747], Loss: 0.0525\n",
            "Epoch [4/25], Step [1700/1747], Loss: 0.2298\n",
            "correct: 15692\n",
            "total: 17476\n",
            "Accuracy on Epoch[4/25]: 89%\n",
            "Epoch [5/25], Step [100/1747], Loss: 0.6994\n",
            "Epoch [5/25], Step [200/1747], Loss: 0.0243\n",
            "Epoch [5/25], Step [300/1747], Loss: 0.2577\n",
            "Epoch [5/25], Step [400/1747], Loss: 0.2152\n",
            "Epoch [5/25], Step [500/1747], Loss: 0.0179\n",
            "Epoch [5/25], Step [600/1747], Loss: 0.0597\n",
            "Epoch [5/25], Step [700/1747], Loss: 0.0675\n",
            "Epoch [5/25], Step [800/1747], Loss: 0.0299\n",
            "Epoch [5/25], Step [900/1747], Loss: 0.0341\n",
            "Epoch [5/25], Step [1000/1747], Loss: 0.5785\n",
            "Epoch [5/25], Step [1100/1747], Loss: 0.0355\n",
            "Epoch [5/25], Step [1200/1747], Loss: 0.3573\n",
            "Epoch [5/25], Step [1300/1747], Loss: 0.0875\n",
            "Epoch [5/25], Step [1400/1747], Loss: 0.1237\n",
            "Epoch [5/25], Step [1500/1747], Loss: 0.4900\n",
            "Epoch [5/25], Step [1600/1747], Loss: 0.0309\n",
            "Epoch [5/25], Step [1700/1747], Loss: 0.6215\n",
            "correct: 15633\n",
            "total: 17476\n",
            "Accuracy on Epoch[5/25]: 89%\n",
            "Epoch [6/25], Step [100/1747], Loss: 0.5760\n",
            "Epoch [6/25], Step [200/1747], Loss: 0.0197\n",
            "Epoch [6/25], Step [300/1747], Loss: 0.2037\n",
            "Epoch [6/25], Step [400/1747], Loss: 0.1366\n",
            "Epoch [6/25], Step [500/1747], Loss: 0.0213\n",
            "Epoch [6/25], Step [600/1747], Loss: 0.0347\n",
            "Epoch [6/25], Step [700/1747], Loss: 0.0717\n",
            "Epoch [6/25], Step [800/1747], Loss: 0.0579\n",
            "Epoch [6/25], Step [900/1747], Loss: 0.0707\n",
            "Epoch [6/25], Step [1000/1747], Loss: 0.5282\n",
            "Epoch [6/25], Step [1100/1747], Loss: 0.0189\n",
            "Epoch [6/25], Step [1200/1747], Loss: 0.2883\n",
            "Epoch [6/25], Step [1300/1747], Loss: 0.1620\n",
            "Epoch [6/25], Step [1400/1747], Loss: 0.0897\n",
            "Epoch [6/25], Step [1500/1747], Loss: 0.5088\n",
            "Epoch [6/25], Step [1600/1747], Loss: 0.0494\n",
            "Epoch [6/25], Step [1700/1747], Loss: 0.5376\n",
            "correct: 15701\n",
            "total: 17476\n",
            "Accuracy on Epoch[6/25]: 89%\n",
            "Epoch [7/25], Step [100/1747], Loss: 0.5078\n",
            "Epoch [7/25], Step [200/1747], Loss: 0.0204\n",
            "Epoch [7/25], Step [300/1747], Loss: 0.2106\n",
            "Epoch [7/25], Step [400/1747], Loss: 0.1526\n",
            "Epoch [7/25], Step [500/1747], Loss: 0.0283\n",
            "Epoch [7/25], Step [600/1747], Loss: 0.0285\n",
            "Epoch [7/25], Step [700/1747], Loss: 0.0807\n",
            "Epoch [7/25], Step [800/1747], Loss: 0.0809\n",
            "Epoch [7/25], Step [900/1747], Loss: 0.0480\n",
            "Epoch [7/25], Step [1000/1747], Loss: 0.6130\n",
            "Epoch [7/25], Step [1100/1747], Loss: 0.0084\n",
            "Epoch [7/25], Step [1200/1747], Loss: 0.2973\n",
            "Epoch [7/25], Step [1300/1747], Loss: 0.0952\n",
            "Epoch [7/25], Step [1400/1747], Loss: 0.1506\n",
            "Epoch [7/25], Step [1500/1747], Loss: 0.6754\n",
            "Epoch [7/25], Step [1600/1747], Loss: 0.0494\n",
            "Epoch [7/25], Step [1700/1747], Loss: 0.4820\n",
            "correct: 15661\n",
            "total: 17476\n",
            "Accuracy on Epoch[7/25]: 89%\n",
            "Epoch [8/25], Step [100/1747], Loss: 0.7719\n",
            "Epoch [8/25], Step [200/1747], Loss: 0.0656\n",
            "Epoch [8/25], Step [300/1747], Loss: 0.2185\n",
            "Epoch [8/25], Step [400/1747], Loss: 0.1704\n",
            "Epoch [8/25], Step [500/1747], Loss: 0.0215\n",
            "Epoch [8/25], Step [600/1747], Loss: 0.0613\n",
            "Epoch [8/25], Step [700/1747], Loss: 0.0828\n",
            "Epoch [8/25], Step [800/1747], Loss: 0.0489\n",
            "Epoch [8/25], Step [900/1747], Loss: 0.0367\n",
            "Epoch [8/25], Step [1000/1747], Loss: 0.5506\n",
            "Epoch [8/25], Step [1100/1747], Loss: 0.0056\n",
            "Epoch [8/25], Step [1200/1747], Loss: 0.2671\n",
            "Epoch [8/25], Step [1300/1747], Loss: 0.1050\n",
            "Epoch [8/25], Step [1400/1747], Loss: 0.1076\n",
            "Epoch [8/25], Step [1500/1747], Loss: 0.3464\n",
            "Epoch [8/25], Step [1600/1747], Loss: 0.0470\n",
            "Epoch [8/25], Step [1700/1747], Loss: 0.5363\n",
            "correct: 15671\n",
            "total: 17476\n",
            "Accuracy on Epoch[8/25]: 89%\n",
            "Epoch [9/25], Step [100/1747], Loss: 0.5301\n",
            "Epoch [9/25], Step [200/1747], Loss: 0.0271\n",
            "Epoch [9/25], Step [300/1747], Loss: 0.2661\n",
            "Epoch [9/25], Step [400/1747], Loss: 0.1709\n",
            "Epoch [9/25], Step [500/1747], Loss: 0.0188\n",
            "Epoch [9/25], Step [600/1747], Loss: 0.0532\n",
            "Epoch [9/25], Step [700/1747], Loss: 0.0924\n",
            "Epoch [9/25], Step [800/1747], Loss: 0.0756\n",
            "Epoch [9/25], Step [900/1747], Loss: 0.0985\n",
            "Epoch [9/25], Step [1000/1747], Loss: 0.5514\n",
            "Epoch [9/25], Step [1100/1747], Loss: 0.0035\n",
            "Epoch [9/25], Step [1200/1747], Loss: 0.2825\n",
            "Epoch [9/25], Step [1300/1747], Loss: 0.1147\n",
            "Epoch [9/25], Step [1400/1747], Loss: 0.1736\n",
            "Epoch [9/25], Step [1500/1747], Loss: 0.4078\n",
            "Epoch [9/25], Step [1600/1747], Loss: 0.0346\n",
            "Epoch [9/25], Step [1700/1747], Loss: 0.5672\n",
            "correct: 15740\n",
            "total: 17476\n",
            "Accuracy on Epoch[9/25]: 90%\n",
            "Epoch [10/25], Step [100/1747], Loss: 0.4810\n",
            "Epoch [10/25], Step [200/1747], Loss: 0.0558\n",
            "Epoch [10/25], Step [300/1747], Loss: 0.1872\n",
            "Epoch [10/25], Step [400/1747], Loss: 0.1134\n",
            "Epoch [10/25], Step [500/1747], Loss: 0.0196\n",
            "Epoch [10/25], Step [600/1747], Loss: 0.0625\n",
            "Epoch [10/25], Step [700/1747], Loss: 0.0853\n",
            "Epoch [10/25], Step [800/1747], Loss: 0.0753\n",
            "Epoch [10/25], Step [900/1747], Loss: 0.0373\n",
            "Epoch [10/25], Step [1000/1747], Loss: 0.4788\n",
            "Epoch [10/25], Step [1100/1747], Loss: 0.0042\n",
            "Epoch [10/25], Step [1200/1747], Loss: 0.3063\n",
            "Epoch [10/25], Step [1300/1747], Loss: 0.1156\n",
            "Epoch [10/25], Step [1400/1747], Loss: 0.1680\n",
            "Epoch [10/25], Step [1500/1747], Loss: 0.4404\n",
            "Epoch [10/25], Step [1600/1747], Loss: 0.0379\n",
            "Epoch [10/25], Step [1700/1747], Loss: 0.3121\n",
            "correct: 15774\n",
            "total: 17476\n",
            "Accuracy on Epoch[10/25]: 90%\n",
            "Epoch [11/25], Step [100/1747], Loss: 0.5625\n",
            "Epoch [11/25], Step [200/1747], Loss: 0.0601\n",
            "Epoch [11/25], Step [300/1747], Loss: 0.2134\n",
            "Epoch [11/25], Step [400/1747], Loss: 0.1573\n",
            "Epoch [11/25], Step [500/1747], Loss: 0.0318\n",
            "Epoch [11/25], Step [600/1747], Loss: 0.0391\n",
            "Epoch [11/25], Step [700/1747], Loss: 0.0807\n",
            "Epoch [11/25], Step [800/1747], Loss: 0.0880\n",
            "Epoch [11/25], Step [900/1747], Loss: 0.0775\n",
            "Epoch [11/25], Step [1000/1747], Loss: 0.5092\n",
            "Epoch [11/25], Step [1100/1747], Loss: 0.0192\n",
            "Epoch [11/25], Step [1200/1747], Loss: 0.3116\n",
            "Epoch [11/25], Step [1300/1747], Loss: 0.1273\n",
            "Epoch [11/25], Step [1400/1747], Loss: 0.2320\n",
            "Epoch [11/25], Step [1500/1747], Loss: 0.3260\n",
            "Epoch [11/25], Step [1600/1747], Loss: 0.0345\n",
            "Epoch [11/25], Step [1700/1747], Loss: 0.4798\n",
            "correct: 15697\n",
            "total: 17476\n",
            "Accuracy on Epoch[11/25]: 89%\n",
            "Epoch [12/25], Step [100/1747], Loss: 0.5018\n",
            "Epoch [12/25], Step [200/1747], Loss: 0.0258\n",
            "Epoch [12/25], Step [300/1747], Loss: 0.2025\n",
            "Epoch [12/25], Step [400/1747], Loss: 0.1740\n",
            "Epoch [12/25], Step [500/1747], Loss: 0.0323\n",
            "Epoch [12/25], Step [600/1747], Loss: 0.0405\n",
            "Epoch [12/25], Step [700/1747], Loss: 0.0674\n",
            "Epoch [12/25], Step [800/1747], Loss: 0.0309\n",
            "Epoch [12/25], Step [900/1747], Loss: 0.0518\n",
            "Epoch [12/25], Step [1000/1747], Loss: 0.8860\n",
            "Epoch [12/25], Step [1100/1747], Loss: 0.0387\n",
            "Epoch [12/25], Step [1200/1747], Loss: 0.3547\n",
            "Epoch [12/25], Step [1300/1747], Loss: 0.0975\n",
            "Epoch [12/25], Step [1400/1747], Loss: 0.1025\n",
            "Epoch [12/25], Step [1500/1747], Loss: 0.3629\n",
            "Epoch [12/25], Step [1600/1747], Loss: 0.0297\n",
            "Epoch [12/25], Step [1700/1747], Loss: 0.4448\n",
            "correct: 15592\n",
            "total: 17476\n",
            "Accuracy on Epoch[12/25]: 89%\n",
            "Epoch [13/25], Step [100/1747], Loss: 0.5072\n",
            "Epoch [13/25], Step [200/1747], Loss: 0.0277\n",
            "Epoch [13/25], Step [300/1747], Loss: 0.3703\n",
            "Epoch [13/25], Step [400/1747], Loss: 0.1362\n",
            "Epoch [13/25], Step [500/1747], Loss: 0.0220\n",
            "Epoch [13/25], Step [600/1747], Loss: 0.0359\n",
            "Epoch [13/25], Step [700/1747], Loss: 0.0704\n",
            "Epoch [13/25], Step [800/1747], Loss: 0.0734\n",
            "Epoch [13/25], Step [900/1747], Loss: 0.0895\n",
            "Epoch [13/25], Step [1000/1747], Loss: 0.4874\n",
            "Epoch [13/25], Step [1100/1747], Loss: 0.0434\n",
            "Epoch [13/25], Step [1200/1747], Loss: 0.3192\n",
            "Epoch [13/25], Step [1300/1747], Loss: 0.1021\n",
            "Epoch [13/25], Step [1400/1747], Loss: 0.1063\n",
            "Epoch [13/25], Step [1500/1747], Loss: 0.5800\n",
            "Epoch [13/25], Step [1600/1747], Loss: 0.0307\n",
            "Epoch [13/25], Step [1700/1747], Loss: 0.4782\n",
            "correct: 15751\n",
            "total: 17476\n",
            "Accuracy on Epoch[13/25]: 90%\n",
            "Epoch [14/25], Step [100/1747], Loss: 0.6543\n",
            "Epoch [14/25], Step [200/1747], Loss: 0.0449\n",
            "Epoch [14/25], Step [300/1747], Loss: 0.2367\n",
            "Epoch [14/25], Step [400/1747], Loss: 0.1550\n",
            "Epoch [14/25], Step [500/1747], Loss: 0.0240\n",
            "Epoch [14/25], Step [600/1747], Loss: 0.1521\n",
            "Epoch [14/25], Step [700/1747], Loss: 0.0509\n",
            "Epoch [14/25], Step [800/1747], Loss: 0.0566\n",
            "Epoch [14/25], Step [900/1747], Loss: 0.0922\n",
            "Epoch [14/25], Step [1000/1747], Loss: 0.5028\n",
            "Epoch [14/25], Step [1100/1747], Loss: 0.0383\n",
            "Epoch [14/25], Step [1200/1747], Loss: 0.3293\n",
            "Epoch [14/25], Step [1300/1747], Loss: 0.1165\n",
            "Epoch [14/25], Step [1400/1747], Loss: 0.0890\n",
            "Epoch [14/25], Step [1500/1747], Loss: 0.3009\n",
            "Epoch [14/25], Step [1600/1747], Loss: 0.0339\n",
            "Epoch [14/25], Step [1700/1747], Loss: 0.5164\n",
            "correct: 15753\n",
            "total: 17476\n",
            "Accuracy on Epoch[14/25]: 90%\n",
            "Epoch [15/25], Step [100/1747], Loss: 0.5069\n",
            "Epoch [15/25], Step [200/1747], Loss: 0.0161\n",
            "Epoch [15/25], Step [300/1747], Loss: 0.1825\n",
            "Epoch [15/25], Step [400/1747], Loss: 0.1431\n",
            "Epoch [15/25], Step [500/1747], Loss: 0.0200\n",
            "Epoch [15/25], Step [600/1747], Loss: 0.0258\n",
            "Epoch [15/25], Step [700/1747], Loss: 0.0739\n",
            "Epoch [15/25], Step [800/1747], Loss: 0.0769\n",
            "Epoch [15/25], Step [900/1747], Loss: 0.0848\n",
            "Epoch [15/25], Step [1000/1747], Loss: 0.5532\n",
            "Epoch [15/25], Step [1100/1747], Loss: 0.0210\n",
            "Epoch [15/25], Step [1200/1747], Loss: 0.2170\n",
            "Epoch [15/25], Step [1300/1747], Loss: 0.1083\n",
            "Epoch [15/25], Step [1400/1747], Loss: 0.1400\n",
            "Epoch [15/25], Step [1500/1747], Loss: 0.3141\n",
            "Epoch [15/25], Step [1600/1747], Loss: 0.0331\n",
            "Epoch [15/25], Step [1700/1747], Loss: 0.4773\n",
            "correct: 15807\n",
            "total: 17476\n",
            "Accuracy on Epoch[15/25]: 90%\n",
            "Epoch [16/25], Step [100/1747], Loss: 0.5970\n",
            "Epoch [16/25], Step [200/1747], Loss: 0.0232\n",
            "Epoch [16/25], Step [300/1747], Loss: 0.2048\n",
            "Epoch [16/25], Step [400/1747], Loss: 0.1591\n",
            "Epoch [16/25], Step [500/1747], Loss: 0.0187\n",
            "Epoch [16/25], Step [600/1747], Loss: 0.0562\n",
            "Epoch [16/25], Step [700/1747], Loss: 0.0706\n",
            "Epoch [16/25], Step [800/1747], Loss: 0.0816\n",
            "Epoch [16/25], Step [900/1747], Loss: 0.0671\n",
            "Epoch [16/25], Step [1000/1747], Loss: 0.6044\n",
            "Epoch [16/25], Step [1100/1747], Loss: 0.0589\n",
            "Epoch [16/25], Step [1200/1747], Loss: 0.2806\n",
            "Epoch [16/25], Step [1300/1747], Loss: 0.1558\n",
            "Epoch [16/25], Step [1400/1747], Loss: 0.1009\n",
            "Epoch [16/25], Step [1500/1747], Loss: 0.3871\n",
            "Epoch [16/25], Step [1600/1747], Loss: 0.0294\n",
            "Epoch [16/25], Step [1700/1747], Loss: 0.1483\n",
            "correct: 15812\n",
            "total: 17476\n",
            "Accuracy on Epoch[16/25]: 90%\n",
            "Epoch [17/25], Step [100/1747], Loss: 0.6359\n",
            "Epoch [17/25], Step [200/1747], Loss: 0.0457\n",
            "Epoch [17/25], Step [300/1747], Loss: 0.2690\n",
            "Epoch [17/25], Step [400/1747], Loss: 0.1639\n",
            "Epoch [17/25], Step [500/1747], Loss: 0.0198\n",
            "Epoch [17/25], Step [600/1747], Loss: 0.0605\n",
            "Epoch [17/25], Step [700/1747], Loss: 0.0745\n",
            "Epoch [17/25], Step [800/1747], Loss: 0.0631\n",
            "Epoch [17/25], Step [900/1747], Loss: 0.0248\n",
            "Epoch [17/25], Step [1000/1747], Loss: 0.5360\n",
            "Epoch [17/25], Step [1100/1747], Loss: 0.0307\n",
            "Epoch [17/25], Step [1200/1747], Loss: 0.2867\n",
            "Epoch [17/25], Step [1300/1747], Loss: 0.1019\n",
            "Epoch [17/25], Step [1400/1747], Loss: 0.1237\n",
            "Epoch [17/25], Step [1500/1747], Loss: 0.4041\n",
            "Epoch [17/25], Step [1600/1747], Loss: 0.0384\n",
            "Epoch [17/25], Step [1700/1747], Loss: 0.3627\n",
            "correct: 15768\n",
            "total: 17476\n",
            "Accuracy on Epoch[17/25]: 90%\n",
            "Epoch [18/25], Step [100/1747], Loss: 0.5806\n",
            "Epoch [18/25], Step [200/1747], Loss: 1.0757\n",
            "Epoch [18/25], Step [300/1747], Loss: 0.2602\n",
            "Epoch [18/25], Step [400/1747], Loss: 0.1713\n",
            "Epoch [18/25], Step [500/1747], Loss: 0.0270\n",
            "Epoch [18/25], Step [600/1747], Loss: 0.0546\n",
            "Epoch [18/25], Step [700/1747], Loss: 0.0877\n",
            "Epoch [18/25], Step [800/1747], Loss: 0.0589\n",
            "Epoch [18/25], Step [900/1747], Loss: 0.0713\n",
            "Epoch [18/25], Step [1000/1747], Loss: 0.5523\n",
            "Epoch [18/25], Step [1100/1747], Loss: 0.0559\n",
            "Epoch [18/25], Step [1200/1747], Loss: 0.5384\n",
            "Epoch [18/25], Step [1300/1747], Loss: 0.1025\n",
            "Epoch [18/25], Step [1400/1747], Loss: 0.0975\n",
            "Epoch [18/25], Step [1500/1747], Loss: 0.4163\n",
            "Epoch [18/25], Step [1600/1747], Loss: 0.0685\n",
            "Epoch [18/25], Step [1700/1747], Loss: 0.4109\n",
            "correct: 15576\n",
            "total: 17476\n",
            "Accuracy on Epoch[18/25]: 89%\n",
            "Epoch [19/25], Step [100/1747], Loss: 0.7799\n",
            "Epoch [19/25], Step [200/1747], Loss: 0.0319\n",
            "Epoch [19/25], Step [300/1747], Loss: 0.2381\n",
            "Epoch [19/25], Step [400/1747], Loss: 0.2206\n",
            "Epoch [19/25], Step [500/1747], Loss: 0.0252\n",
            "Epoch [19/25], Step [600/1747], Loss: 0.0323\n",
            "Epoch [19/25], Step [700/1747], Loss: 0.0668\n",
            "Epoch [19/25], Step [800/1747], Loss: 0.0647\n",
            "Epoch [19/25], Step [900/1747], Loss: 0.0844\n",
            "Epoch [19/25], Step [1000/1747], Loss: 0.6422\n",
            "Epoch [19/25], Step [1100/1747], Loss: 0.0086\n",
            "Epoch [19/25], Step [1200/1747], Loss: 0.3415\n",
            "Epoch [19/25], Step [1300/1747], Loss: 0.1639\n",
            "Epoch [19/25], Step [1400/1747], Loss: 0.0601\n",
            "Epoch [19/25], Step [1500/1747], Loss: 0.3592\n",
            "Epoch [19/25], Step [1600/1747], Loss: 0.0221\n",
            "Epoch [19/25], Step [1700/1747], Loss: 0.3547\n",
            "correct: 15715\n",
            "total: 17476\n",
            "Accuracy on Epoch[19/25]: 89%\n",
            "Epoch [20/25], Step [100/1747], Loss: 0.5715\n",
            "Epoch [20/25], Step [200/1747], Loss: 0.0145\n",
            "Epoch [20/25], Step [300/1747], Loss: 0.1293\n",
            "Epoch [20/25], Step [400/1747], Loss: 0.1342\n",
            "Epoch [20/25], Step [500/1747], Loss: 0.0269\n",
            "Epoch [20/25], Step [600/1747], Loss: 0.0787\n",
            "Epoch [20/25], Step [700/1747], Loss: 0.0474\n",
            "Epoch [20/25], Step [800/1747], Loss: 0.0867\n",
            "Epoch [20/25], Step [900/1747], Loss: 0.0546\n",
            "Epoch [20/25], Step [1000/1747], Loss: 0.5698\n",
            "Epoch [20/25], Step [1100/1747], Loss: 0.0148\n",
            "Epoch [20/25], Step [1200/1747], Loss: 0.3543\n",
            "Epoch [20/25], Step [1300/1747], Loss: 0.1104\n",
            "Epoch [20/25], Step [1400/1747], Loss: 0.0753\n",
            "Epoch [20/25], Step [1500/1747], Loss: 0.3535\n",
            "Epoch [20/25], Step [1600/1747], Loss: 0.0569\n",
            "Epoch [20/25], Step [1700/1747], Loss: 0.4940\n",
            "correct: 15648\n",
            "total: 17476\n",
            "Accuracy on Epoch[20/25]: 89%\n",
            "Epoch [21/25], Step [100/1747], Loss: 0.5538\n",
            "Epoch [21/25], Step [200/1747], Loss: 0.0251\n",
            "Epoch [21/25], Step [300/1747], Loss: 0.2606\n",
            "Epoch [21/25], Step [400/1747], Loss: 0.2246\n",
            "Epoch [21/25], Step [500/1747], Loss: 0.0283\n",
            "Epoch [21/25], Step [600/1747], Loss: 0.0487\n",
            "Epoch [21/25], Step [700/1747], Loss: 0.0548\n",
            "Epoch [21/25], Step [800/1747], Loss: 0.0662\n",
            "Epoch [21/25], Step [900/1747], Loss: 0.0602\n",
            "Epoch [21/25], Step [1000/1747], Loss: 0.6127\n",
            "Epoch [21/25], Step [1100/1747], Loss: 0.0173\n",
            "Epoch [21/25], Step [1200/1747], Loss: 0.3682\n",
            "Epoch [21/25], Step [1300/1747], Loss: 0.1546\n",
            "Epoch [21/25], Step [1400/1747], Loss: 0.0484\n",
            "Epoch [21/25], Step [1500/1747], Loss: 0.4107\n",
            "Epoch [21/25], Step [1600/1747], Loss: 0.0877\n",
            "Epoch [21/25], Step [1700/1747], Loss: 0.4482\n",
            "correct: 15693\n",
            "total: 17476\n",
            "Accuracy on Epoch[21/25]: 89%\n",
            "Epoch [22/25], Step [100/1747], Loss: 0.5477\n",
            "Epoch [22/25], Step [200/1747], Loss: 0.0317\n",
            "Epoch [22/25], Step [300/1747], Loss: 0.1704\n",
            "Epoch [22/25], Step [400/1747], Loss: 0.2225\n",
            "Epoch [22/25], Step [500/1747], Loss: 0.0257\n",
            "Epoch [22/25], Step [600/1747], Loss: 0.0433\n",
            "Epoch [22/25], Step [700/1747], Loss: 0.0527\n",
            "Epoch [22/25], Step [800/1747], Loss: 0.0658\n",
            "Epoch [22/25], Step [900/1747], Loss: 0.0713\n",
            "Epoch [22/25], Step [1000/1747], Loss: 0.4515\n",
            "Epoch [22/25], Step [1100/1747], Loss: 0.0219\n",
            "Epoch [22/25], Step [1200/1747], Loss: 0.2736\n",
            "Epoch [22/25], Step [1300/1747], Loss: 0.1140\n",
            "Epoch [22/25], Step [1400/1747], Loss: 0.0566\n",
            "Epoch [22/25], Step [1500/1747], Loss: 0.3275\n",
            "Epoch [22/25], Step [1600/1747], Loss: 0.0274\n",
            "Epoch [22/25], Step [1700/1747], Loss: 0.3234\n",
            "correct: 15731\n",
            "total: 17476\n",
            "Accuracy on Epoch[22/25]: 90%\n",
            "Epoch [23/25], Step [100/1747], Loss: 0.4662\n",
            "Epoch [23/25], Step [200/1747], Loss: 0.0173\n",
            "Epoch [23/25], Step [300/1747], Loss: 0.1927\n",
            "Epoch [23/25], Step [400/1747], Loss: 0.2138\n",
            "Epoch [23/25], Step [500/1747], Loss: 0.0324\n",
            "Epoch [23/25], Step [600/1747], Loss: 0.0638\n",
            "Epoch [23/25], Step [700/1747], Loss: 0.0913\n",
            "Epoch [23/25], Step [800/1747], Loss: 0.0724\n",
            "Epoch [23/25], Step [900/1747], Loss: 0.0688\n",
            "Epoch [23/25], Step [1000/1747], Loss: 0.5719\n",
            "Epoch [23/25], Step [1100/1747], Loss: 0.0237\n",
            "Epoch [23/25], Step [1200/1747], Loss: 0.3189\n",
            "Epoch [23/25], Step [1300/1747], Loss: 0.1386\n",
            "Epoch [23/25], Step [1400/1747], Loss: 0.0364\n",
            "Epoch [23/25], Step [1500/1747], Loss: 0.2950\n",
            "Epoch [23/25], Step [1600/1747], Loss: 0.0579\n",
            "Epoch [23/25], Step [1700/1747], Loss: 0.3647\n",
            "correct: 15671\n",
            "total: 17476\n",
            "Accuracy on Epoch[23/25]: 89%\n",
            "Epoch [24/25], Step [100/1747], Loss: 0.5645\n",
            "Epoch [24/25], Step [200/1747], Loss: 0.0568\n",
            "Epoch [24/25], Step [300/1747], Loss: 0.1465\n",
            "Epoch [24/25], Step [400/1747], Loss: 0.1778\n",
            "Epoch [24/25], Step [500/1747], Loss: 0.0312\n",
            "Epoch [24/25], Step [600/1747], Loss: 0.0613\n",
            "Epoch [24/25], Step [700/1747], Loss: 0.0690\n",
            "Epoch [24/25], Step [800/1747], Loss: 0.0754\n",
            "Epoch [24/25], Step [900/1747], Loss: 0.0582\n",
            "Epoch [24/25], Step [1000/1747], Loss: 0.6486\n",
            "Epoch [24/25], Step [1100/1747], Loss: 0.0867\n",
            "Epoch [24/25], Step [1200/1747], Loss: 0.4430\n",
            "Epoch [24/25], Step [1300/1747], Loss: 0.1194\n",
            "Epoch [24/25], Step [1400/1747], Loss: 0.0768\n",
            "Epoch [24/25], Step [1500/1747], Loss: 0.6515\n",
            "Epoch [24/25], Step [1600/1747], Loss: 0.0352\n",
            "Epoch [24/25], Step [1700/1747], Loss: 0.3787\n",
            "correct: 15689\n",
            "total: 17476\n",
            "Accuracy on Epoch[24/25]: 89%\n",
            "Epoch [25/25], Step [100/1747], Loss: 0.5429\n",
            "Epoch [25/25], Step [200/1747], Loss: 0.0174\n",
            "Epoch [25/25], Step [300/1747], Loss: 0.2308\n",
            "Epoch [25/25], Step [400/1747], Loss: 0.1109\n",
            "Epoch [25/25], Step [500/1747], Loss: 0.0283\n",
            "Epoch [25/25], Step [600/1747], Loss: 0.0735\n",
            "Epoch [25/25], Step [700/1747], Loss: 0.0674\n",
            "Epoch [25/25], Step [800/1747], Loss: 0.0816\n",
            "Epoch [25/25], Step [900/1747], Loss: 0.0870\n",
            "Epoch [25/25], Step [1000/1747], Loss: 0.5839\n",
            "Epoch [25/25], Step [1100/1747], Loss: 0.0183\n",
            "Epoch [25/25], Step [1200/1747], Loss: 0.3432\n",
            "Epoch [25/25], Step [1300/1747], Loss: 0.1253\n",
            "Epoch [25/25], Step [1400/1747], Loss: 0.0672\n",
            "Epoch [25/25], Step [1500/1747], Loss: 0.4452\n",
            "Epoch [25/25], Step [1600/1747], Loss: 0.0312\n",
            "Epoch [25/25], Step [1700/1747], Loss: 0.3512\n",
            "correct: 15810\n",
            "total: 17476\n",
            "Accuracy on Epoch[25/25]: 90%\n"
          ],
          "name": "stdout"
        }
      ]
    },
    {
      "cell_type": "code",
      "metadata": {
        "id": "PRbLYZRkXKDA",
        "colab_type": "code",
        "outputId": "256e0630-e07b-4bad-8591-5f2662cf31a4",
        "colab": {
          "base_uri": "https://localhost:8080/",
          "height": 87
        }
      },
      "source": [
        "correct = 0\n",
        "total = 0\n",
        "all_target = None\n",
        "all_output = None\n",
        "for data, target in test_loader:\n",
        "  \n",
        "  outputs = baseline(data.to(device))\n",
        "  total += target.size(0)\n",
        "  correct += (F.log_softmax(outputs).data == target.to(device).data).sum()\n",
        "  if all_target is None:\n",
        "    all_target = target.data.numpy().reshape(target.data.shape[0],-1)\n",
        "    all_output = torch.round(torch.sigmoid(outputs)).cpu().data.numpy().reshape(target.data.shape[0],-1)\n",
        "  else:\n",
        "    all_target = np.concatenate((all_target,target.data.numpy().reshape(target.data.shape[0],-1)))\n",
        "    all_output = np.concatenate((all_output,torch.round(torch.sigmoid(outputs)).cpu().data.numpy().reshape(target.data.shape[0],-1)))\n",
        "print('Test Accuracy of the model on the test: %d %%' % (100 * correct / total))"
      ],
      "execution_count": 133,
      "outputs": [
        {
          "output_type": "stream",
          "text": [
            "Test Accuracy of the model on the test: 97 %\n"
          ],
          "name": "stdout"
        },
        {
          "output_type": "stream",
          "text": [
            "/usr/local/lib/python3.6/dist-packages/ipykernel_launcher.py:9: UserWarning: Implicit dimension choice for log_softmax has been deprecated. Change the call to include dim=X as an argument.\n",
            "  if __name__ == '__main__':\n"
          ],
          "name": "stderr"
        }
      ]
    },
    {
      "cell_type": "markdown",
      "metadata": {
        "id": "dqq8Dc0eIEvJ",
        "colab_type": "text"
      },
      "source": [
        "#### Confusion Matrix"
      ]
    },
    {
      "cell_type": "code",
      "metadata": {
        "id": "lI_o4lVaLRkr",
        "colab_type": "code",
        "colab": {
          "base_uri": "https://localhost:8080/",
          "height": 134
        },
        "outputId": "1ad4a95f-19a8-4b0f-a32c-57c593e4113c"
      },
      "source": [
        "all_output"
      ],
      "execution_count": 134,
      "outputs": [
        {
          "output_type": "execute_result",
          "data": {
            "text/plain": [
              "array([[0.],\n",
              "       [0.],\n",
              "       [0.],\n",
              "       ...,\n",
              "       [0.],\n",
              "       [0.],\n",
              "       [0.]], dtype=float32)"
            ]
          },
          "metadata": {
            "tags": []
          },
          "execution_count": 134
        }
      ]
    },
    {
      "cell_type": "code",
      "metadata": {
        "id": "bgUnUqokDOgU",
        "colab_type": "code",
        "colab": {
          "base_uri": "https://localhost:8080/",
          "height": 273
        },
        "outputId": "f846af45-9a56-40c0-e41f-4a53aaf31c1c"
      },
      "source": [
        "cm = confusion_matrix(all_output, all_target)\n",
        "df_cm = pd.DataFrame(cm, range(2), range(2))\n",
        "# plt.figure(figsize=(10,7))\n",
        "sns.set(font_scale=1.4) # for label size\n",
        "sns.heatmap(df_cm, annot=True, annot_kws={\"size\": 16}) # font size\n",
        "\n",
        "plt.show()"
      ],
      "execution_count": 135,
      "outputs": [
        {
          "output_type": "display_data",
          "data": {
            "image/png": "[encoded data removed]",
            "text/plain": [
              "<Figure size 432x288 with 2 Axes>"
            ]
          },
          "metadata": {
            "tags": []
          }
        }
      ]
    },
    {
      "cell_type": "markdown",
      "metadata": {
        "id": "FFLSVy5JEjxM",
        "colab_type": "text"
      },
      "source": [
        "#### CLassification report"
      ]
    },
    {
      "cell_type": "code",
      "metadata": {
        "id": "ZV_j87gAIPy2",
        "colab_type": "code",
        "colab": {
          "base_uri": "https://localhost:8080/",
          "height": 168
        },
        "outputId": "2dacfda2-af29-47df-d8d5-e33ffbfd7d77"
      },
      "source": [
        "print(classification_report(all_target, all_output))"
      ],
      "execution_count": 136,
      "outputs": [
        {
          "output_type": "stream",
          "text": [
            "              precision    recall  f1-score   support\n",
            "\n",
            "         0.0       1.00      0.90      0.95      2185\n",
            "         1.0       0.19      0.96      0.32        52\n",
            "\n",
            "    accuracy                           0.91      2237\n",
            "   macro avg       0.60      0.93      0.64      2237\n",
            "weighted avg       0.98      0.91      0.93      2237\n",
            "\n"
          ],
          "name": "stdout"
        }
      ]
    },
    {
      "cell_type": "code",
      "metadata": {
        "id": "1cLtErTXIZJe",
        "colab_type": "code",
        "colab": {}
      },
      "source": [
        ""
      ],
      "execution_count": 0,
      "outputs": []
    }
  ]
}