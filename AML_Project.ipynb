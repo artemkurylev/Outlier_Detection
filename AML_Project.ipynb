{
  "nbformat": 4,
  "nbformat_minor": 0,
  "metadata": {
    "colab": {
      "name": "AML Project",
      "provenance": [],
      "collapsed_sections": [],
      "include_colab_link": true
    },
    "kernelspec": {
      "name": "python3",
      "display_name": "Python 3"
    },
    "accelerator": "GPU"
  },
  "cells": [
    {
      "cell_type": "markdown",
      "metadata": {
        "id": "view-in-github",
        "colab_type": "text"
      },
      "source": [
        "<a href=\"https://colab.research.google.com/github/artemkurylev/Outlier_Detection/blob/master/AML_Project.ipynb\" target=\"_parent\"><img src=\"https://colab.research.google.com/assets/colab-badge.svg\" alt=\"Open In Colab\"/></a>"
      ]
    },
    {
      "cell_type": "code",
      "metadata": {
        "id": "SnwQ7w33Lpek",
        "colab_type": "code",
        "outputId": "8c2d76fc-dab6-4100-c4f7-986af1bf62c3",
        "colab": {
          "base_uri": "https://localhost:8080/",
          "height": 202
        }
      },
      "source": [
        "! wget -O data.csv https://www.openml.org/data/get_csv/52214/phpn1jVwe"
      ],
      "execution_count": 1,
      "outputs": [
        {
          "output_type": "stream",
          "text": [
            "--2020-04-04 05:08:47--  https://www.openml.org/data/get_csv/52214/phpn1jVwe\n",
            "Resolving www.openml.org (www.openml.org)... 131.155.11.11\n",
            "Connecting to www.openml.org (www.openml.org)|131.155.11.11|:443... connected.\n",
            "HTTP request sent, awaiting response... 200 OK\n",
            "Length: unspecified [text/plain]\n",
            "Saving to: ‘data.csv’\n",
            "\n",
            "data.csv                [   <=>              ] 808.56K  1.12MB/s    in 0.7s    \n",
            "\n",
            "2020-04-04 05:08:48 (1.12 MB/s) - ‘data.csv’ saved [827961]\n",
            "\n"
          ],
          "name": "stdout"
        }
      ]
    },
    {
      "cell_type": "code",
      "metadata": {
        "id": "dyGIzPMDMSpp",
        "colab_type": "code",
        "colab": {
          "base_uri": "https://localhost:8080/",
          "height": 70
        },
        "outputId": "d5693d86-3aab-4612-8ee2-eb15fb6a0421"
      },
      "source": [
        "import pandas as pd\n",
        "from matplotlib import pyplot as plt\n",
        "import torch\n",
        "from torch.utils.data import TensorDataset\n",
        "import torch.nn as nn\n",
        "from torch.functional import F\n",
        "import torch.optim as optim\n",
        "from sklearn.model_selection import train_test_split\n",
        "from sklearn.metrics import confusion_matrix\n",
        "import numpy as np\n",
        "import seaborn as sns\n",
        "from sklearn.metrics import classification_report\n",
        "from sklearn.preprocessing import MinMaxScaler\n",
        "from sklearn.utils import shuffle\n",
        "from sklearn.decomposition import PCA\n",
        "from sklearn.metrics import roc_curve,auc\n",
        "%matplotlib inline"
      ],
      "execution_count": 2,
      "outputs": [
        {
          "output_type": "stream",
          "text": [
            "/usr/local/lib/python3.6/dist-packages/statsmodels/tools/_testing.py:19: FutureWarning: pandas.util.testing is deprecated. Use the functions in the public API at pandas.testing instead.\n",
            "  import pandas.util.testing as tm\n"
          ],
          "name": "stderr"
        }
      ]
    },
    {
      "cell_type": "code",
      "metadata": {
        "id": "i65USE-vMYyb",
        "colab_type": "code",
        "colab": {}
      },
      "source": [
        "df = pd.read_csv(\"data.csv\")"
      ],
      "execution_count": 0,
      "outputs": []
    },
    {
      "cell_type": "code",
      "metadata": {
        "id": "QAHZYWL6McYO",
        "colab_type": "code",
        "outputId": "5ebb23b8-2240-46c5-e1fc-e70be69a1128",
        "colab": {
          "base_uri": "https://localhost:8080/",
          "height": 195
        }
      },
      "source": [
        "df.head()"
      ],
      "execution_count": 4,
      "outputs": [
        {
          "output_type": "execute_result",
          "data": {
            "text/html": [
              "<div>\n",
              "<style scoped>\n",
              "    .dataframe tbody tr th:only-of-type {\n",
              "        vertical-align: middle;\n",
              "    }\n",
              "\n",
              "    .dataframe tbody tr th {\n",
              "        vertical-align: top;\n",
              "    }\n",
              "\n",
              "    .dataframe thead th {\n",
              "        text-align: right;\n",
              "    }\n",
              "</style>\n",
              "<table border=\"1\" class=\"dataframe\">\n",
              "  <thead>\n",
              "    <tr style=\"text-align: right;\">\n",
              "      <th></th>\n",
              "      <th>attr1</th>\n",
              "      <th>attr2</th>\n",
              "      <th>attr3</th>\n",
              "      <th>attr4</th>\n",
              "      <th>attr5</th>\n",
              "      <th>attr6</th>\n",
              "      <th>class</th>\n",
              "    </tr>\n",
              "  </thead>\n",
              "  <tbody>\n",
              "    <tr>\n",
              "      <th>0</th>\n",
              "      <td>0.230020</td>\n",
              "      <td>5.072578</td>\n",
              "      <td>-0.276061</td>\n",
              "      <td>0.832444</td>\n",
              "      <td>-0.377866</td>\n",
              "      <td>0.480322</td>\n",
              "      <td>'-1'</td>\n",
              "    </tr>\n",
              "    <tr>\n",
              "      <th>1</th>\n",
              "      <td>0.155491</td>\n",
              "      <td>-0.169390</td>\n",
              "      <td>0.670652</td>\n",
              "      <td>-0.859553</td>\n",
              "      <td>-0.377866</td>\n",
              "      <td>-0.945723</td>\n",
              "      <td>'-1'</td>\n",
              "    </tr>\n",
              "    <tr>\n",
              "      <th>2</th>\n",
              "      <td>-0.784415</td>\n",
              "      <td>-0.443654</td>\n",
              "      <td>5.674705</td>\n",
              "      <td>-0.859553</td>\n",
              "      <td>-0.377866</td>\n",
              "      <td>-0.945723</td>\n",
              "      <td>'-1'</td>\n",
              "    </tr>\n",
              "    <tr>\n",
              "      <th>3</th>\n",
              "      <td>0.546088</td>\n",
              "      <td>0.131415</td>\n",
              "      <td>-0.456387</td>\n",
              "      <td>-0.859553</td>\n",
              "      <td>-0.377866</td>\n",
              "      <td>-0.945723</td>\n",
              "      <td>'-1'</td>\n",
              "    </tr>\n",
              "    <tr>\n",
              "      <th>4</th>\n",
              "      <td>-0.102987</td>\n",
              "      <td>-0.394994</td>\n",
              "      <td>-0.140816</td>\n",
              "      <td>0.979703</td>\n",
              "      <td>-0.377866</td>\n",
              "      <td>1.013566</td>\n",
              "      <td>'-1'</td>\n",
              "    </tr>\n",
              "  </tbody>\n",
              "</table>\n",
              "</div>"
            ],
            "text/plain": [
              "      attr1     attr2     attr3     attr4     attr5     attr6 class\n",
              "0  0.230020  5.072578 -0.276061  0.832444 -0.377866  0.480322  '-1'\n",
              "1  0.155491 -0.169390  0.670652 -0.859553 -0.377866 -0.945723  '-1'\n",
              "2 -0.784415 -0.443654  5.674705 -0.859553 -0.377866 -0.945723  '-1'\n",
              "3  0.546088  0.131415 -0.456387 -0.859553 -0.377866 -0.945723  '-1'\n",
              "4 -0.102987 -0.394994 -0.140816  0.979703 -0.377866  1.013566  '-1'"
            ]
          },
          "metadata": {
            "tags": []
          },
          "execution_count": 4
        }
      ]
    },
    {
      "cell_type": "code",
      "metadata": {
        "id": "yz556CipMgej",
        "colab_type": "code",
        "outputId": "246abe8a-850e-4f66-d339-8bc0e424e72e",
        "colab": {
          "base_uri": "https://localhost:8080/",
          "height": 252
        }
      },
      "source": [
        "df.info()"
      ],
      "execution_count": 5,
      "outputs": [
        {
          "output_type": "stream",
          "text": [
            "<class 'pandas.core.frame.DataFrame'>\n",
            "RangeIndex: 11183 entries, 0 to 11182\n",
            "Data columns (total 7 columns):\n",
            " #   Column  Non-Null Count  Dtype  \n",
            "---  ------  --------------  -----  \n",
            " 0   attr1   11183 non-null  float64\n",
            " 1   attr2   11183 non-null  float64\n",
            " 2   attr3   11183 non-null  float64\n",
            " 3   attr4   11183 non-null  float64\n",
            " 4   attr5   11183 non-null  float64\n",
            " 5   attr6   11183 non-null  float64\n",
            " 6   class   11183 non-null  object \n",
            "dtypes: float64(6), object(1)\n",
            "memory usage: 611.7+ KB\n"
          ],
          "name": "stdout"
        }
      ]
    },
    {
      "cell_type": "code",
      "metadata": {
        "id": "WZWunL3KMjma",
        "colab_type": "code",
        "outputId": "c36a4cdd-6294-4fb6-9be0-db820be2840a",
        "colab": {
          "base_uri": "https://localhost:8080/",
          "height": 284
        }
      },
      "source": [
        "df.describe()"
      ],
      "execution_count": 6,
      "outputs": [
        {
          "output_type": "execute_result",
          "data": {
            "text/html": [
              "<div>\n",
              "<style scoped>\n",
              "    .dataframe tbody tr th:only-of-type {\n",
              "        vertical-align: middle;\n",
              "    }\n",
              "\n",
              "    .dataframe tbody tr th {\n",
              "        vertical-align: top;\n",
              "    }\n",
              "\n",
              "    .dataframe thead th {\n",
              "        text-align: right;\n",
              "    }\n",
              "</style>\n",
              "<table border=\"1\" class=\"dataframe\">\n",
              "  <thead>\n",
              "    <tr style=\"text-align: right;\">\n",
              "      <th></th>\n",
              "      <th>attr1</th>\n",
              "      <th>attr2</th>\n",
              "      <th>attr3</th>\n",
              "      <th>attr4</th>\n",
              "      <th>attr5</th>\n",
              "      <th>attr6</th>\n",
              "    </tr>\n",
              "  </thead>\n",
              "  <tbody>\n",
              "    <tr>\n",
              "      <th>count</th>\n",
              "      <td>1.118300e+04</td>\n",
              "      <td>1.118300e+04</td>\n",
              "      <td>1.118300e+04</td>\n",
              "      <td>1.118300e+04</td>\n",
              "      <td>1.118300e+04</td>\n",
              "      <td>1.118300e+04</td>\n",
              "    </tr>\n",
              "    <tr>\n",
              "      <th>mean</th>\n",
              "      <td>1.096535e-10</td>\n",
              "      <td>1.297595e-09</td>\n",
              "      <td>5.698113e-10</td>\n",
              "      <td>-2.435705e-09</td>\n",
              "      <td>-1.120680e-09</td>\n",
              "      <td>1.459483e-09</td>\n",
              "    </tr>\n",
              "    <tr>\n",
              "      <th>std</th>\n",
              "      <td>1.000000e+00</td>\n",
              "      <td>1.000000e+00</td>\n",
              "      <td>1.000000e+00</td>\n",
              "      <td>1.000000e+00</td>\n",
              "      <td>1.000000e+00</td>\n",
              "      <td>1.000000e+00</td>\n",
              "    </tr>\n",
              "    <tr>\n",
              "      <th>min</th>\n",
              "      <td>-7.844148e-01</td>\n",
              "      <td>-4.701953e-01</td>\n",
              "      <td>-5.916315e-01</td>\n",
              "      <td>-8.595525e-01</td>\n",
              "      <td>-3.778657e-01</td>\n",
              "      <td>-9.457232e-01</td>\n",
              "    </tr>\n",
              "    <tr>\n",
              "      <th>25%</th>\n",
              "      <td>-7.844148e-01</td>\n",
              "      <td>-4.701953e-01</td>\n",
              "      <td>-5.916315e-01</td>\n",
              "      <td>-8.595525e-01</td>\n",
              "      <td>-3.778657e-01</td>\n",
              "      <td>-9.457232e-01</td>\n",
              "    </tr>\n",
              "    <tr>\n",
              "      <th>50%</th>\n",
              "      <td>-1.085769e-01</td>\n",
              "      <td>-3.949941e-01</td>\n",
              "      <td>-2.309790e-01</td>\n",
              "      <td>-8.595525e-01</td>\n",
              "      <td>-3.778657e-01</td>\n",
              "      <td>-9.457232e-01</td>\n",
              "    </tr>\n",
              "    <tr>\n",
              "      <th>75%</th>\n",
              "      <td>3.139489e-01</td>\n",
              "      <td>-7.649473e-02</td>\n",
              "      <td>2.198366e-01</td>\n",
              "      <td>8.202077e-01</td>\n",
              "      <td>-3.778657e-01</td>\n",
              "      <td>1.016613e+00</td>\n",
              "    </tr>\n",
              "    <tr>\n",
              "      <th>max</th>\n",
              "      <td>3.150844e+01</td>\n",
              "      <td>5.085849e+00</td>\n",
              "      <td>2.947777e+01</td>\n",
              "      <td>9.591164e+00</td>\n",
              "      <td>2.361712e+01</td>\n",
              "      <td>1.949027e+00</td>\n",
              "    </tr>\n",
              "  </tbody>\n",
              "</table>\n",
              "</div>"
            ],
            "text/plain": [
              "              attr1         attr2  ...         attr5         attr6\n",
              "count  1.118300e+04  1.118300e+04  ...  1.118300e+04  1.118300e+04\n",
              "mean   1.096535e-10  1.297595e-09  ... -1.120680e-09  1.459483e-09\n",
              "std    1.000000e+00  1.000000e+00  ...  1.000000e+00  1.000000e+00\n",
              "min   -7.844148e-01 -4.701953e-01  ... -3.778657e-01 -9.457232e-01\n",
              "25%   -7.844148e-01 -4.701953e-01  ... -3.778657e-01 -9.457232e-01\n",
              "50%   -1.085769e-01 -3.949941e-01  ... -3.778657e-01 -9.457232e-01\n",
              "75%    3.139489e-01 -7.649473e-02  ... -3.778657e-01  1.016613e+00\n",
              "max    3.150844e+01  5.085849e+00  ...  2.361712e+01  1.949027e+00\n",
              "\n",
              "[8 rows x 6 columns]"
            ]
          },
          "metadata": {
            "tags": []
          },
          "execution_count": 6
        }
      ]
    },
    {
      "cell_type": "code",
      "metadata": {
        "id": "qmggsBATMnw_",
        "colab_type": "code",
        "outputId": "403cc27f-c3e7-4772-ef34-f94c03d48cf5",
        "colab": {
          "base_uri": "https://localhost:8080/",
          "height": 282
        }
      },
      "source": [
        "df['class'].hist()"
      ],
      "execution_count": 7,
      "outputs": [
        {
          "output_type": "execute_result",
          "data": {
            "text/plain": [
              "<matplotlib.axes._subplots.AxesSubplot at 0x7faca015da58>"
            ]
          },
          "metadata": {
            "tags": []
          },
          "execution_count": 7
        },
        {
          "output_type": "display_data",
          "data": {
            "image/png": "[encoded data removed]",
            "text/plain": [
              "<Figure size 432x288 with 1 Axes>"
            ]
          },
          "metadata": {
            "tags": []
          }
        }
      ]
    },
    {
      "cell_type": "code",
      "metadata": {
        "id": "NcfYNQeKNOuc",
        "colab_type": "code",
        "outputId": "db731cf7-ab41-4942-863b-e47fee2e1297",
        "colab": {
          "base_uri": "https://localhost:8080/",
          "height": 195
        }
      },
      "source": [
        "df['target'] = df['class'].apply(lambda x : 0 if x == \"'-1'\" else 1)\n",
        "df.head()"
      ],
      "execution_count": 8,
      "outputs": [
        {
          "output_type": "execute_result",
          "data": {
            "text/html": [
              "<div>\n",
              "<style scoped>\n",
              "    .dataframe tbody tr th:only-of-type {\n",
              "        vertical-align: middle;\n",
              "    }\n",
              "\n",
              "    .dataframe tbody tr th {\n",
              "        vertical-align: top;\n",
              "    }\n",
              "\n",
              "    .dataframe thead th {\n",
              "        text-align: right;\n",
              "    }\n",
              "</style>\n",
              "<table border=\"1\" class=\"dataframe\">\n",
              "  <thead>\n",
              "    <tr style=\"text-align: right;\">\n",
              "      <th></th>\n",
              "      <th>attr1</th>\n",
              "      <th>attr2</th>\n",
              "      <th>attr3</th>\n",
              "      <th>attr4</th>\n",
              "      <th>attr5</th>\n",
              "      <th>attr6</th>\n",
              "      <th>class</th>\n",
              "      <th>target</th>\n",
              "    </tr>\n",
              "  </thead>\n",
              "  <tbody>\n",
              "    <tr>\n",
              "      <th>0</th>\n",
              "      <td>0.230020</td>\n",
              "      <td>5.072578</td>\n",
              "      <td>-0.276061</td>\n",
              "      <td>0.832444</td>\n",
              "      <td>-0.377866</td>\n",
              "      <td>0.480322</td>\n",
              "      <td>'-1'</td>\n",
              "      <td>0</td>\n",
              "    </tr>\n",
              "    <tr>\n",
              "      <th>1</th>\n",
              "      <td>0.155491</td>\n",
              "      <td>-0.169390</td>\n",
              "      <td>0.670652</td>\n",
              "      <td>-0.859553</td>\n",
              "      <td>-0.377866</td>\n",
              "      <td>-0.945723</td>\n",
              "      <td>'-1'</td>\n",
              "      <td>0</td>\n",
              "    </tr>\n",
              "    <tr>\n",
              "      <th>2</th>\n",
              "      <td>-0.784415</td>\n",
              "      <td>-0.443654</td>\n",
              "      <td>5.674705</td>\n",
              "      <td>-0.859553</td>\n",
              "      <td>-0.377866</td>\n",
              "      <td>-0.945723</td>\n",
              "      <td>'-1'</td>\n",
              "      <td>0</td>\n",
              "    </tr>\n",
              "    <tr>\n",
              "      <th>3</th>\n",
              "      <td>0.546088</td>\n",
              "      <td>0.131415</td>\n",
              "      <td>-0.456387</td>\n",
              "      <td>-0.859553</td>\n",
              "      <td>-0.377866</td>\n",
              "      <td>-0.945723</td>\n",
              "      <td>'-1'</td>\n",
              "      <td>0</td>\n",
              "    </tr>\n",
              "    <tr>\n",
              "      <th>4</th>\n",
              "      <td>-0.102987</td>\n",
              "      <td>-0.394994</td>\n",
              "      <td>-0.140816</td>\n",
              "      <td>0.979703</td>\n",
              "      <td>-0.377866</td>\n",
              "      <td>1.013566</td>\n",
              "      <td>'-1'</td>\n",
              "      <td>0</td>\n",
              "    </tr>\n",
              "  </tbody>\n",
              "</table>\n",
              "</div>"
            ],
            "text/plain": [
              "      attr1     attr2     attr3     attr4     attr5     attr6 class  target\n",
              "0  0.230020  5.072578 -0.276061  0.832444 -0.377866  0.480322  '-1'       0\n",
              "1  0.155491 -0.169390  0.670652 -0.859553 -0.377866 -0.945723  '-1'       0\n",
              "2 -0.784415 -0.443654  5.674705 -0.859553 -0.377866 -0.945723  '-1'       0\n",
              "3  0.546088  0.131415 -0.456387 -0.859553 -0.377866 -0.945723  '-1'       0\n",
              "4 -0.102987 -0.394994 -0.140816  0.979703 -0.377866  1.013566  '-1'       0"
            ]
          },
          "metadata": {
            "tags": []
          },
          "execution_count": 8
        }
      ]
    },
    {
      "cell_type": "code",
      "metadata": {
        "id": "WG3lv0y6UJNk",
        "colab_type": "code",
        "colab": {}
      },
      "source": [
        "X = df[['attr1','attr2','attr3','attr4','attr5','attr6']]\n",
        "Y = df[['target']]"
      ],
      "execution_count": 0,
      "outputs": []
    },
    {
      "cell_type": "code",
      "metadata": {
        "id": "BHvPjEPC0BlR",
        "colab_type": "code",
        "outputId": "ee332e2e-6ff1-40bb-de95-a96e16b99245",
        "colab": {
          "base_uri": "https://localhost:8080/",
          "height": 34
        }
      },
      "source": [
        "Y['target'].unique()"
      ],
      "execution_count": 10,
      "outputs": [
        {
          "output_type": "execute_result",
          "data": {
            "text/plain": [
              "array([0, 1])"
            ]
          },
          "metadata": {
            "tags": []
          },
          "execution_count": 10
        }
      ]
    },
    {
      "cell_type": "code",
      "metadata": {
        "id": "-q3D6v-V4uAM",
        "colab_type": "code",
        "outputId": "8f777fcd-942b-41b1-f3ed-b0ab879e7e2e",
        "colab": {
          "base_uri": "https://localhost:8080/",
          "height": 282
        }
      },
      "source": [
        "Y['target'].hist()"
      ],
      "execution_count": 11,
      "outputs": [
        {
          "output_type": "execute_result",
          "data": {
            "text/plain": [
              "<matplotlib.axes._subplots.AxesSubplot at 0x7facfb610b38>"
            ]
          },
          "metadata": {
            "tags": []
          },
          "execution_count": 11
        },
        {
          "output_type": "display_data",
          "data": {
            "image/png": "[encoded data removed]",
            "text/plain": [
              "<Figure size 432x288 with 1 Axes>"
            ]
          },
          "metadata": {
            "tags": []
          }
        }
      ]
    },
    {
      "cell_type": "code",
      "metadata": {
        "id": "rXxEq4mL4LxG",
        "colab_type": "code",
        "outputId": "197b734c-1348-4d33-acb5-23dc6e363e0b",
        "colab": {
          "base_uri": "https://localhost:8080/",
          "height": 34
        }
      },
      "source": [
        "from collections import Counter\n",
        "Counter(Y['target'])"
      ],
      "execution_count": 12,
      "outputs": [
        {
          "output_type": "execute_result",
          "data": {
            "text/plain": [
              "Counter({0: 10923, 1: 260})"
            ]
          },
          "metadata": {
            "tags": []
          },
          "execution_count": 12
        }
      ]
    },
    {
      "cell_type": "markdown",
      "metadata": {
        "id": "a_weXbGMbvv1",
        "colab_type": "text"
      },
      "source": [
        "## Some data exploring\n"
      ]
    },
    {
      "cell_type": "markdown",
      "metadata": {
        "id": "WtJZvTzwcyS0",
        "colab_type": "text"
      },
      "source": [
        "##### 2 component PCA\n"
      ]
    },
    {
      "cell_type": "code",
      "metadata": {
        "id": "oHM5hG5hbu8L",
        "colab_type": "code",
        "colab": {}
      },
      "source": [
        "pca = PCA(n_components=2)\n",
        "principalComponents = pca.fit_transform(X)\n",
        "principalDf = pd.DataFrame(data = principalComponents\n",
        "             , columns = ['principal component 1', 'principal component 2'])\n",
        "finalDf = pd.concat([principalDf, Y[['target']]], axis = 1)"
      ],
      "execution_count": 0,
      "outputs": []
    },
    {
      "cell_type": "code",
      "metadata": {
        "id": "_5I7VY5-bu_N",
        "colab_type": "code",
        "outputId": "a10376cb-5965-4610-87d7-305caaece7f1",
        "colab": {
          "base_uri": "https://localhost:8080/",
          "height": 523
        }
      },
      "source": [
        "fig = plt.figure(figsize = (8,8))\n",
        "ax = fig.add_subplot(1,1,1) \n",
        "ax.set_xlabel('Principal Component 1', fontsize = 15)\n",
        "ax.set_ylabel('Principal Component 2', fontsize = 15)\n",
        "ax.set_title('2 component PCA', fontsize = 20)\n",
        "targets = [0, 1]\n",
        "colors = ['r', 'b']\n",
        "for target, color in zip(targets,colors):\n",
        "    indicesToKeep = finalDf['target'] == target\n",
        "    ax.scatter(finalDf.loc[indicesToKeep, 'principal component 1']\n",
        "               , finalDf.loc[indicesToKeep, 'principal component 2']\n",
        "               , c = color\n",
        "               , s = 50)\n",
        "ax.legend(targets)\n",
        "ax.grid()"
      ],
      "execution_count": 14,
      "outputs": [
        {
          "output_type": "display_data",
          "data": {
            "image/png": "[encoded data removed]",
            "text/plain": [
              "<Figure size 576x576 with 1 Axes>"
            ]
          },
          "metadata": {
            "tags": []
          }
        }
      ]
    },
    {
      "cell_type": "code",
      "metadata": {
        "id": "DxtyCZHMbvCn",
        "colab_type": "code",
        "outputId": "72a669b4-1a24-48b7-e037-a3d1a09bd2e2",
        "colab": {
          "base_uri": "https://localhost:8080/",
          "height": 34
        }
      },
      "source": [
        "pca.explained_variance_ratio_"
      ],
      "execution_count": 15,
      "outputs": [
        {
          "output_type": "execute_result",
          "data": {
            "text/plain": [
              "array([0.40501236, 0.20818947])"
            ]
          },
          "metadata": {
            "tags": []
          },
          "execution_count": 15
        }
      ]
    },
    {
      "cell_type": "markdown",
      "metadata": {
        "id": "AZL6pgvmbvFt",
        "colab_type": "text"
      },
      "source": [
        "##### 3 component PCA"
      ]
    },
    {
      "cell_type": "code",
      "metadata": {
        "id": "yN1CtBeobvJM",
        "colab_type": "code",
        "colab": {}
      },
      "source": [
        "pca = PCA(n_components=3)\n",
        "principalComponents = pca.fit_transform(X)\n",
        "principalDf = pd.DataFrame(data = principalComponents\n",
        "             , columns = ['principal component 1', 'principal component 2', 'principal component 3'])\n",
        "finalDf = pd.concat([principalDf, Y[['target']]], axis = 1)\n"
      ],
      "execution_count": 0,
      "outputs": []
    },
    {
      "cell_type": "code",
      "metadata": {
        "id": "795i1UdWbvOD",
        "colab_type": "code",
        "outputId": "6f5c310f-09f9-450e-d360-f007ea9e1a0c",
        "colab": {
          "base_uri": "https://localhost:8080/",
          "height": 466
        }
      },
      "source": [
        "fig = plt.figure(figsize = (8,8))\n",
        "ax = fig.add_subplot(1,1,1,projection='3d') \n",
        "ax.set_xlabel('Principal Component 1', fontsize = 15)\n",
        "ax.set_ylabel('Principal Component 2', fontsize = 15)\n",
        "ax.set_zlabel('Principal Component 3', fontsize = 15)\n",
        "ax.set_title('3 component PCA', fontsize = 20)\n",
        "targets = [0, 1]\n",
        "colors = ['r', 'b']\n",
        "for target, color in zip(targets,colors):\n",
        "    indicesToKeep = finalDf['target'] == target\n",
        "    ax.scatter(finalDf.loc[indicesToKeep, 'principal component 1']\n",
        "               , finalDf.loc[indicesToKeep, 'principal component 2']\n",
        "               , finalDf.loc[indicesToKeep, 'principal component 3']\n",
        "               , c = color\n",
        "               , s = 50)\n",
        "ax.legend(targets)\n",
        "ax.grid()"
      ],
      "execution_count": 17,
      "outputs": [
        {
          "output_type": "display_data",
          "data": {
            "image/png": "[encoded data removed]",
            "text/plain": [
              "<Figure size 576x576 with 1 Axes>"
            ]
          },
          "metadata": {
            "tags": []
          }
        }
      ]
    },
    {
      "cell_type": "markdown",
      "metadata": {
        "id": "e92YQmEZOtsu",
        "colab_type": "text"
      },
      "source": [
        "## Normalization\n"
      ]
    },
    {
      "cell_type": "code",
      "metadata": {
        "id": "WST8KoCwOvtX",
        "colab_type": "code",
        "colab": {}
      },
      "source": [
        "x = X.values #returns a numpy array\n",
        "min_max_scaler = MinMaxScaler()\n",
        "x_scaled = min_max_scaler.fit_transform(x)\n",
        "X = pd.DataFrame(x_scaled)"
      ],
      "execution_count": 0,
      "outputs": []
    },
    {
      "cell_type": "code",
      "metadata": {
        "id": "GJvN_nc6Tum0",
        "colab_type": "code",
        "colab": {}
      },
      "source": [
        "X_train, X_test, y_train, y_test = train_test_split(X, Y, test_size=0.2, random_state=42, stratify=Y)"
      ],
      "execution_count": 0,
      "outputs": []
    },
    {
      "cell_type": "markdown",
      "metadata": {
        "id": "HLfCzx2HM-tC",
        "colab_type": "text"
      },
      "source": [
        "## Oversampling"
      ]
    },
    {
      "cell_type": "code",
      "metadata": {
        "id": "9YA8wEIzNB4y",
        "colab_type": "code",
        "outputId": "78a2b283-8c7c-4446-cfc1-5ece05502332",
        "colab": {
          "base_uri": "https://localhost:8080/",
          "height": 138
        }
      },
      "source": [
        "from imblearn.over_sampling import RandomOverSampler\n",
        "ros = RandomOverSampler(random_state=0)\n",
        "X_resampled, y_resampled = ros.fit_resample(X_train, y_train.to_numpy().ravel())\n",
        "X_resampled, y_resampled = shuffle(X_resampled,y_resampled)\n",
        "X_resampled, y_resampled = X_resampled, y_resampled "
      ],
      "execution_count": 20,
      "outputs": [
        {
          "output_type": "stream",
          "text": [
            "/usr/local/lib/python3.6/dist-packages/sklearn/externals/six.py:31: FutureWarning: The module is deprecated in version 0.21 and will be removed in version 0.23 since we've dropped support for Python 2.7. Please rely on the official version of six (https://pypi.org/project/six/).\n",
            "  \"(https://pypi.org/project/six/).\", FutureWarning)\n",
            "/usr/local/lib/python3.6/dist-packages/sklearn/utils/deprecation.py:144: FutureWarning: The sklearn.neighbors.base module is  deprecated in version 0.22 and will be removed in version 0.24. The corresponding classes / functions should instead be imported from sklearn.neighbors. Anything that cannot be imported from sklearn.neighbors is now part of the private API.\n",
            "  warnings.warn(message, FutureWarning)\n",
            "/usr/local/lib/python3.6/dist-packages/sklearn/utils/deprecation.py:87: FutureWarning: Function safe_indexing is deprecated; safe_indexing is deprecated in version 0.22 and will be removed in version 0.24.\n",
            "  warnings.warn(msg, category=FutureWarning)\n"
          ],
          "name": "stderr"
        }
      ]
    },
    {
      "cell_type": "code",
      "metadata": {
        "id": "U39CPWI8R3ku",
        "colab_type": "code",
        "colab": {}
      },
      "source": [
        "train_dataset = TensorDataset(torch.Tensor(X_resampled), torch.Tensor(y_resampled.reshape(y_resampled.shape[0],-1)))\n",
        "test_dataset = TensorDataset(torch.Tensor(X_test.to_numpy()), torch.Tensor(y_test.to_numpy()))"
      ],
      "execution_count": 0,
      "outputs": []
    },
    {
      "cell_type": "markdown",
      "metadata": {
        "id": "oHvrLIJ1i6Nn",
        "colab_type": "text"
      },
      "source": [
        "## Baseline"
      ]
    },
    {
      "cell_type": "code",
      "metadata": {
        "id": "7UeeH5dFUzey",
        "colab_type": "code",
        "colab": {}
      },
      "source": [
        "batch_size = 10"
      ],
      "execution_count": 0,
      "outputs": []
    },
    {
      "cell_type": "code",
      "metadata": {
        "id": "otvl8oViUiHj",
        "colab_type": "code",
        "colab": {}
      },
      "source": [
        "data_loader = torch.utils.data.DataLoader(train_dataset,batch_size)\n",
        "test_loader = torch.utils.data.DataLoader(test_dataset, batch_size)"
      ],
      "execution_count": 0,
      "outputs": []
    },
    {
      "cell_type": "code",
      "metadata": {
        "id": "7yem4BPXU-ly",
        "colab_type": "code",
        "colab": {}
      },
      "source": [
        "class Baseline(nn.Module):\n",
        "  def __init__(self):\n",
        "    super(Baseline,self).__init__()\n",
        "    self.fc1 = nn.Sequential(\n",
        "        nn.Linear(6,128),\n",
        "        nn.LeakyReLU(),\n",
        "        nn.Linear(128,1024),\n",
        "        nn.LeakyReLU(),\n",
        "        nn.Linear(1024,1024),\n",
        "        nn.LeakyReLU(),\n",
        "        nn.Linear(1024,1)\n",
        "    )\n",
        "  def forward(self,x):\n",
        "    out = self.fc1(x)\n",
        "    #out = torch.sigmoid(out)\n",
        "    \n",
        "    return out"
      ],
      "execution_count": 0,
      "outputs": []
    },
    {
      "cell_type": "markdown",
      "metadata": {
        "id": "GBTW0YS_I1Nq",
        "colab_type": "text"
      },
      "source": [
        "#### Cuda"
      ]
    },
    {
      "cell_type": "code",
      "metadata": {
        "id": "EtZlkOnYWeoy",
        "colab_type": "code",
        "colab": {}
      },
      "source": [
        "cuda = True if torch.cuda.is_available() else False\n",
        "device = 'cuda' if cuda else 'cpu'"
      ],
      "execution_count": 0,
      "outputs": []
    },
    {
      "cell_type": "markdown",
      "metadata": {
        "id": "ggVYd8YEIvY-",
        "colab_type": "text"
      },
      "source": [
        "#### Weight initialization"
      ]
    },
    {
      "cell_type": "code",
      "metadata": {
        "id": "uIe9GkxtIs7P",
        "colab_type": "code",
        "colab": {}
      },
      "source": [
        "def init_weights(m):\n",
        "    if type(m) == nn.Linear:\n",
        "        torch.nn.init.xavier_uniform_(m.weight)"
      ],
      "execution_count": 0,
      "outputs": []
    },
    {
      "cell_type": "code",
      "metadata": {
        "id": "qMnMY20tWmZD",
        "colab_type": "code",
        "outputId": "5fe5bc3e-dfee-4d26-f4eb-b060810851b2",
        "colab": {
          "base_uri": "https://localhost:8080/",
          "height": 168
        }
      },
      "source": [
        "baseline = Baseline()\n",
        "if cuda:\n",
        "  baseline.cuda()\n",
        "baseline.fc1.apply(init_weights)"
      ],
      "execution_count": 155,
      "outputs": [
        {
          "output_type": "execute_result",
          "data": {
            "text/plain": [
              "Sequential(\n",
              "  (0): Linear(in_features=6, out_features=128, bias=True)\n",
              "  (1): LeakyReLU(negative_slope=0.01)\n",
              "  (2): Linear(in_features=128, out_features=1024, bias=True)\n",
              "  (3): LeakyReLU(negative_slope=0.01)\n",
              "  (4): Linear(in_features=1024, out_features=1024, bias=True)\n",
              "  (5): LeakyReLU(negative_slope=0.01)\n",
              "  (6): Linear(in_features=1024, out_features=1, bias=True)\n",
              ")"
            ]
          },
          "metadata": {
            "tags": []
          },
          "execution_count": 155
        }
      ]
    },
    {
      "cell_type": "code",
      "metadata": {
        "id": "oodLXuStW5bj",
        "colab_type": "code",
        "colab": {}
      },
      "source": [
        "lr = 0.01\n",
        "optimizer = optim.Adam(baseline.parameters(), lr=lr)"
      ],
      "execution_count": 0,
      "outputs": []
    },
    {
      "cell_type": "code",
      "metadata": {
        "id": "odH1lfGWXLQX",
        "colab_type": "code",
        "outputId": "facdf756-f096-4673-da46-7012e50e747c",
        "colab": {
          "base_uri": "https://localhost:8080/",
          "height": 1000
        }
      },
      "source": [
        "n_epochs = 50\n",
        "n_print = 100\n",
        "\n",
        "for epoch in range(n_epochs):\n",
        "  total, correct = 0, 0\n",
        "  baseline.train()\n",
        "  criterion = nn.BCEWithLogitsLoss()\n",
        "  for i, (data,target) in enumerate(data_loader):\n",
        "    optimizer.zero_grad()\n",
        "    output = baseline(data.to(device))\n",
        "    loss =  criterion(output.float(),target.to(device))\n",
        "    loss.backward()\n",
        "\n",
        "    # Compute train accuracy\n",
        "    _, predicted = torch.max(output.data, 1)\n",
        "    batch_total = target.size(0)\n",
        "    total += batch_total\n",
        "    #print(output.data == target.data)\n",
        "    batch_correct = (torch.round(torch.sigmoid(output.data)) == target.to(device).data).sum()\n",
        "    correct += batch_correct\n",
        "    optimizer.step()\n",
        "\n",
        "    if (i + 1) % n_print == 0:\n",
        "      print('Epoch [%d/%d], Step [%d/%d], Loss: %.4f'\n",
        "            % (epoch + 1, n_epochs, i + 1, len(train_dataset) // batch_size, loss.item()))\n",
        "  print(\"correct: {}\\ntotal: {}\".format(correct, total))\n",
        "  print(\"Accuracy on Epoch[{}/{}]: {}%\".format(epoch + 1, n_epochs, 100* correct/total ))\n"
      ],
      "execution_count": 157,
      "outputs": [
        {
          "output_type": "stream",
          "text": [
            "Epoch [1/50], Step [100/1747], Loss: 0.2278\n",
            "Epoch [1/50], Step [200/1747], Loss: 0.5032\n",
            "Epoch [1/50], Step [300/1747], Loss: 0.5518\n",
            "Epoch [1/50], Step [400/1747], Loss: 0.4525\n",
            "Epoch [1/50], Step [500/1747], Loss: 0.1221\n",
            "Epoch [1/50], Step [600/1747], Loss: 0.2462\n",
            "Epoch [1/50], Step [700/1747], Loss: 0.0067\n",
            "Epoch [1/50], Step [800/1747], Loss: 0.3497\n",
            "Epoch [1/50], Step [900/1747], Loss: 0.1931\n",
            "Epoch [1/50], Step [1000/1747], Loss: 0.3697\n",
            "Epoch [1/50], Step [1100/1747], Loss: 0.4096\n",
            "Epoch [1/50], Step [1200/1747], Loss: 0.0588\n",
            "Epoch [1/50], Step [1300/1747], Loss: 0.0509\n",
            "Epoch [1/50], Step [1400/1747], Loss: 0.2431\n",
            "Epoch [1/50], Step [1500/1747], Loss: 0.5866\n",
            "Epoch [1/50], Step [1600/1747], Loss: 0.5887\n",
            "Epoch [1/50], Step [1700/1747], Loss: 0.1697\n",
            "correct: 15141\n",
            "total: 17476\n",
            "Accuracy on Epoch[1/50]: 86%\n",
            "Epoch [2/50], Step [100/1747], Loss: 0.0659\n",
            "Epoch [2/50], Step [200/1747], Loss: 0.2877\n",
            "Epoch [2/50], Step [300/1747], Loss: 0.3917\n",
            "Epoch [2/50], Step [400/1747], Loss: 0.4467\n",
            "Epoch [2/50], Step [500/1747], Loss: 0.1147\n",
            "Epoch [2/50], Step [600/1747], Loss: 0.2354\n",
            "Epoch [2/50], Step [700/1747], Loss: 0.1004\n",
            "Epoch [2/50], Step [800/1747], Loss: 0.5102\n",
            "Epoch [2/50], Step [900/1747], Loss: 0.2213\n",
            "Epoch [2/50], Step [1000/1747], Loss: 0.2293\n",
            "Epoch [2/50], Step [1100/1747], Loss: 0.3632\n",
            "Epoch [2/50], Step [1200/1747], Loss: 0.1584\n",
            "Epoch [2/50], Step [1300/1747], Loss: 0.0476\n",
            "Epoch [2/50], Step [1400/1747], Loss: 0.1540\n",
            "Epoch [2/50], Step [1500/1747], Loss: 0.5305\n",
            "Epoch [2/50], Step [1600/1747], Loss: 0.5006\n",
            "Epoch [2/50], Step [1700/1747], Loss: 0.1608\n",
            "correct: 15575\n",
            "total: 17476\n",
            "Accuracy on Epoch[2/50]: 89%\n",
            "Epoch [3/50], Step [100/1747], Loss: 0.0698\n",
            "Epoch [3/50], Step [200/1747], Loss: 0.3114\n",
            "Epoch [3/50], Step [300/1747], Loss: 0.4431\n",
            "Epoch [3/50], Step [400/1747], Loss: 0.3838\n",
            "Epoch [3/50], Step [500/1747], Loss: 0.2354\n",
            "Epoch [3/50], Step [600/1747], Loss: 0.2217\n",
            "Epoch [3/50], Step [700/1747], Loss: 0.0901\n",
            "Epoch [3/50], Step [800/1747], Loss: 0.3467\n",
            "Epoch [3/50], Step [900/1747], Loss: 0.2280\n",
            "Epoch [3/50], Step [1000/1747], Loss: 0.1463\n",
            "Epoch [3/50], Step [1100/1747], Loss: 0.3700\n",
            "Epoch [3/50], Step [1200/1747], Loss: 0.0832\n",
            "Epoch [3/50], Step [1300/1747], Loss: 0.0591\n",
            "Epoch [3/50], Step [1400/1747], Loss: 0.1663\n",
            "Epoch [3/50], Step [1500/1747], Loss: 0.4682\n",
            "Epoch [3/50], Step [1600/1747], Loss: 0.5509\n",
            "Epoch [3/50], Step [1700/1747], Loss: 0.1036\n",
            "correct: 15607\n",
            "total: 17476\n",
            "Accuracy on Epoch[3/50]: 89%\n",
            "Epoch [4/50], Step [100/1747], Loss: 0.0854\n",
            "Epoch [4/50], Step [200/1747], Loss: 0.3124\n",
            "Epoch [4/50], Step [300/1747], Loss: 0.4203\n",
            "Epoch [4/50], Step [400/1747], Loss: 0.5926\n",
            "Epoch [4/50], Step [500/1747], Loss: 0.1894\n",
            "Epoch [4/50], Step [600/1747], Loss: 0.2425\n",
            "Epoch [4/50], Step [700/1747], Loss: 0.1007\n",
            "Epoch [4/50], Step [800/1747], Loss: 0.5989\n",
            "Epoch [4/50], Step [900/1747], Loss: 0.2941\n",
            "Epoch [4/50], Step [1000/1747], Loss: 0.1342\n",
            "Epoch [4/50], Step [1100/1747], Loss: 0.4009\n",
            "Epoch [4/50], Step [1200/1747], Loss: 0.1205\n",
            "Epoch [4/50], Step [1300/1747], Loss: 0.0333\n",
            "Epoch [4/50], Step [1400/1747], Loss: 0.1445\n",
            "Epoch [4/50], Step [1500/1747], Loss: 0.5128\n",
            "Epoch [4/50], Step [1600/1747], Loss: 0.5571\n",
            "Epoch [4/50], Step [1700/1747], Loss: 0.0848\n",
            "correct: 15618\n",
            "total: 17476\n",
            "Accuracy on Epoch[4/50]: 89%\n",
            "Epoch [5/50], Step [100/1747], Loss: 0.1143\n",
            "Epoch [5/50], Step [200/1747], Loss: 0.3094\n",
            "Epoch [5/50], Step [300/1747], Loss: 0.7177\n",
            "Epoch [5/50], Step [400/1747], Loss: 0.4293\n",
            "Epoch [5/50], Step [500/1747], Loss: 0.1877\n",
            "Epoch [5/50], Step [600/1747], Loss: 0.2372\n",
            "Epoch [5/50], Step [700/1747], Loss: 0.1427\n",
            "Epoch [5/50], Step [800/1747], Loss: 0.4752\n",
            "Epoch [5/50], Step [900/1747], Loss: 0.2106\n",
            "Epoch [5/50], Step [1000/1747], Loss: 0.1069\n",
            "Epoch [5/50], Step [1100/1747], Loss: 0.3789\n",
            "Epoch [5/50], Step [1200/1747], Loss: 0.1948\n",
            "Epoch [5/50], Step [1300/1747], Loss: 0.0309\n",
            "Epoch [5/50], Step [1400/1747], Loss: 0.1779\n",
            "Epoch [5/50], Step [1500/1747], Loss: 0.5788\n",
            "Epoch [5/50], Step [1600/1747], Loss: 0.5519\n",
            "Epoch [5/50], Step [1700/1747], Loss: 0.1072\n",
            "correct: 15605\n",
            "total: 17476\n",
            "Accuracy on Epoch[5/50]: 89%\n",
            "Epoch [6/50], Step [100/1747], Loss: 0.0903\n",
            "Epoch [6/50], Step [200/1747], Loss: 0.3155\n",
            "Epoch [6/50], Step [300/1747], Loss: 0.6188\n",
            "Epoch [6/50], Step [400/1747], Loss: 0.4173\n",
            "Epoch [6/50], Step [500/1747], Loss: 0.1674\n",
            "Epoch [6/50], Step [600/1747], Loss: 0.2255\n",
            "Epoch [6/50], Step [700/1747], Loss: 0.1124\n",
            "Epoch [6/50], Step [800/1747], Loss: 0.4960\n",
            "Epoch [6/50], Step [900/1747], Loss: 0.2492\n",
            "Epoch [6/50], Step [1000/1747], Loss: 0.1026\n",
            "Epoch [6/50], Step [1100/1747], Loss: 0.4078\n",
            "Epoch [6/50], Step [1200/1747], Loss: 0.1184\n",
            "Epoch [6/50], Step [1300/1747], Loss: 0.0381\n",
            "Epoch [6/50], Step [1400/1747], Loss: 0.1586\n",
            "Epoch [6/50], Step [1500/1747], Loss: 0.5171\n",
            "Epoch [6/50], Step [1600/1747], Loss: 0.4589\n",
            "Epoch [6/50], Step [1700/1747], Loss: 0.0843\n",
            "correct: 15608\n",
            "total: 17476\n",
            "Accuracy on Epoch[6/50]: 89%\n",
            "Epoch [7/50], Step [100/1747], Loss: 0.1019\n",
            "Epoch [7/50], Step [200/1747], Loss: 0.2710\n",
            "Epoch [7/50], Step [300/1747], Loss: 0.5046\n",
            "Epoch [7/50], Step [400/1747], Loss: 0.4332\n",
            "Epoch [7/50], Step [500/1747], Loss: 0.2102\n",
            "Epoch [7/50], Step [600/1747], Loss: 0.2363\n",
            "Epoch [7/50], Step [700/1747], Loss: 0.1092\n",
            "Epoch [7/50], Step [800/1747], Loss: 0.6342\n",
            "Epoch [7/50], Step [900/1747], Loss: 0.2776\n",
            "Epoch [7/50], Step [1000/1747], Loss: 0.1163\n",
            "Epoch [7/50], Step [1100/1747], Loss: 0.3910\n",
            "Epoch [7/50], Step [1200/1747], Loss: 0.1177\n",
            "Epoch [7/50], Step [1300/1747], Loss: 0.0362\n",
            "Epoch [7/50], Step [1400/1747], Loss: 0.1720\n",
            "Epoch [7/50], Step [1500/1747], Loss: 0.5516\n",
            "Epoch [7/50], Step [1600/1747], Loss: 0.6559\n",
            "Epoch [7/50], Step [1700/1747], Loss: 0.0697\n",
            "correct: 15688\n",
            "total: 17476\n",
            "Accuracy on Epoch[7/50]: 89%\n",
            "Epoch [8/50], Step [100/1747], Loss: 0.0741\n",
            "Epoch [8/50], Step [200/1747], Loss: 0.3075\n",
            "Epoch [8/50], Step [300/1747], Loss: 0.2485\n",
            "Epoch [8/50], Step [400/1747], Loss: 0.4489\n",
            "Epoch [8/50], Step [500/1747], Loss: 0.1889\n",
            "Epoch [8/50], Step [600/1747], Loss: 0.2342\n",
            "Epoch [8/50], Step [700/1747], Loss: 0.0975\n",
            "Epoch [8/50], Step [800/1747], Loss: 0.6318\n",
            "Epoch [8/50], Step [900/1747], Loss: 0.2148\n",
            "Epoch [8/50], Step [1000/1747], Loss: 0.1549\n",
            "Epoch [8/50], Step [1100/1747], Loss: 0.3787\n",
            "Epoch [8/50], Step [1200/1747], Loss: 0.0971\n",
            "Epoch [8/50], Step [1300/1747], Loss: 0.0394\n",
            "Epoch [8/50], Step [1400/1747], Loss: 0.0846\n",
            "Epoch [8/50], Step [1500/1747], Loss: 0.5214\n",
            "Epoch [8/50], Step [1600/1747], Loss: 0.4302\n",
            "Epoch [8/50], Step [1700/1747], Loss: 0.0660\n",
            "correct: 15630\n",
            "total: 17476\n",
            "Accuracy on Epoch[8/50]: 89%\n",
            "Epoch [9/50], Step [100/1747], Loss: 0.0849\n",
            "Epoch [9/50], Step [200/1747], Loss: 0.2261\n",
            "Epoch [9/50], Step [300/1747], Loss: 0.3633\n",
            "Epoch [9/50], Step [400/1747], Loss: 0.4528\n",
            "Epoch [9/50], Step [500/1747], Loss: 0.1969\n",
            "Epoch [9/50], Step [600/1747], Loss: 0.2319\n",
            "Epoch [9/50], Step [700/1747], Loss: 0.0879\n",
            "Epoch [9/50], Step [800/1747], Loss: 0.5542\n",
            "Epoch [9/50], Step [900/1747], Loss: 0.2681\n",
            "Epoch [9/50], Step [1000/1747], Loss: 0.1363\n",
            "Epoch [9/50], Step [1100/1747], Loss: 0.3638\n",
            "Epoch [9/50], Step [1200/1747], Loss: 0.1127\n",
            "Epoch [9/50], Step [1300/1747], Loss: 0.0288\n",
            "Epoch [9/50], Step [1400/1747], Loss: 0.1472\n",
            "Epoch [9/50], Step [1500/1747], Loss: 0.5567\n",
            "Epoch [9/50], Step [1600/1747], Loss: 0.4467\n",
            "Epoch [9/50], Step [1700/1747], Loss: 0.0648\n",
            "correct: 15764\n",
            "total: 17476\n",
            "Accuracy on Epoch[9/50]: 90%\n",
            "Epoch [10/50], Step [100/1747], Loss: 0.0893\n",
            "Epoch [10/50], Step [200/1747], Loss: 0.1999\n",
            "Epoch [10/50], Step [300/1747], Loss: 0.6576\n",
            "Epoch [10/50], Step [400/1747], Loss: 0.3722\n",
            "Epoch [10/50], Step [500/1747], Loss: 0.1815\n",
            "Epoch [10/50], Step [600/1747], Loss: 0.2176\n",
            "Epoch [10/50], Step [700/1747], Loss: 0.0836\n",
            "Epoch [10/50], Step [800/1747], Loss: 0.4063\n",
            "Epoch [10/50], Step [900/1747], Loss: 0.2739\n",
            "Epoch [10/50], Step [1000/1747], Loss: 0.1041\n",
            "Epoch [10/50], Step [1100/1747], Loss: 0.3660\n",
            "Epoch [10/50], Step [1200/1747], Loss: 0.1545\n",
            "Epoch [10/50], Step [1300/1747], Loss: 0.0431\n",
            "Epoch [10/50], Step [1400/1747], Loss: 0.1621\n",
            "Epoch [10/50], Step [1500/1747], Loss: 0.4783\n",
            "Epoch [10/50], Step [1600/1747], Loss: 0.5414\n",
            "Epoch [10/50], Step [1700/1747], Loss: 0.0925\n",
            "correct: 15712\n",
            "total: 17476\n",
            "Accuracy on Epoch[10/50]: 89%\n",
            "Epoch [11/50], Step [100/1747], Loss: 0.0866\n",
            "Epoch [11/50], Step [200/1747], Loss: 0.2149\n",
            "Epoch [11/50], Step [300/1747], Loss: 0.4661\n",
            "Epoch [11/50], Step [400/1747], Loss: 0.4681\n",
            "Epoch [11/50], Step [500/1747], Loss: 0.1962\n",
            "Epoch [11/50], Step [600/1747], Loss: 0.2368\n",
            "Epoch [11/50], Step [700/1747], Loss: 0.0981\n",
            "Epoch [11/50], Step [800/1747], Loss: 0.5104\n",
            "Epoch [11/50], Step [900/1747], Loss: 0.2466\n",
            "Epoch [11/50], Step [1000/1747], Loss: 0.1369\n",
            "Epoch [11/50], Step [1100/1747], Loss: 0.6404\n",
            "Epoch [11/50], Step [1200/1747], Loss: 0.1814\n",
            "Epoch [11/50], Step [1300/1747], Loss: 0.0449\n",
            "Epoch [11/50], Step [1400/1747], Loss: 0.1806\n",
            "Epoch [11/50], Step [1500/1747], Loss: 0.5964\n",
            "Epoch [11/50], Step [1600/1747], Loss: 0.4240\n",
            "Epoch [11/50], Step [1700/1747], Loss: 0.1635\n",
            "correct: 15676\n",
            "total: 17476\n",
            "Accuracy on Epoch[11/50]: 89%\n",
            "Epoch [12/50], Step [100/1747], Loss: 0.0692\n",
            "Epoch [12/50], Step [200/1747], Loss: 0.1992\n",
            "Epoch [12/50], Step [300/1747], Loss: 0.3341\n",
            "Epoch [12/50], Step [400/1747], Loss: 0.4471\n",
            "Epoch [12/50], Step [500/1747], Loss: 0.1916\n",
            "Epoch [12/50], Step [600/1747], Loss: 0.2478\n",
            "Epoch [12/50], Step [700/1747], Loss: 0.1389\n",
            "Epoch [12/50], Step [800/1747], Loss: 0.5495\n",
            "Epoch [12/50], Step [900/1747], Loss: 0.2476\n",
            "Epoch [12/50], Step [1000/1747], Loss: 0.1387\n",
            "Epoch [12/50], Step [1100/1747], Loss: 0.3416\n",
            "Epoch [12/50], Step [1200/1747], Loss: 0.0817\n",
            "Epoch [12/50], Step [1300/1747], Loss: 0.0385\n",
            "Epoch [12/50], Step [1400/1747], Loss: 0.1803\n",
            "Epoch [12/50], Step [1500/1747], Loss: 0.5616\n",
            "Epoch [12/50], Step [1600/1747], Loss: 0.5158\n",
            "Epoch [12/50], Step [1700/1747], Loss: 0.0774\n",
            "correct: 15720\n",
            "total: 17476\n",
            "Accuracy on Epoch[12/50]: 89%\n",
            "Epoch [13/50], Step [100/1747], Loss: 0.0676\n",
            "Epoch [13/50], Step [200/1747], Loss: 0.2448\n",
            "Epoch [13/50], Step [300/1747], Loss: 0.5107\n",
            "Epoch [13/50], Step [400/1747], Loss: 0.4566\n",
            "Epoch [13/50], Step [500/1747], Loss: 0.1512\n",
            "Epoch [13/50], Step [600/1747], Loss: 0.2622\n",
            "Epoch [13/50], Step [700/1747], Loss: 0.1074\n",
            "Epoch [13/50], Step [800/1747], Loss: 0.5247\n",
            "Epoch [13/50], Step [900/1747], Loss: 0.2399\n",
            "Epoch [13/50], Step [1000/1747], Loss: 0.1377\n",
            "Epoch [13/50], Step [1100/1747], Loss: 0.3519\n",
            "Epoch [13/50], Step [1200/1747], Loss: 0.1802\n",
            "Epoch [13/50], Step [1300/1747], Loss: 0.0398\n",
            "Epoch [13/50], Step [1400/1747], Loss: 0.1425\n",
            "Epoch [13/50], Step [1500/1747], Loss: 0.5550\n",
            "Epoch [13/50], Step [1600/1747], Loss: 0.4637\n",
            "Epoch [13/50], Step [1700/1747], Loss: 0.0709\n",
            "correct: 15751\n",
            "total: 17476\n",
            "Accuracy on Epoch[13/50]: 90%\n",
            "Epoch [14/50], Step [100/1747], Loss: 0.1005\n",
            "Epoch [14/50], Step [200/1747], Loss: 0.2170\n",
            "Epoch [14/50], Step [300/1747], Loss: 0.6634\n",
            "Epoch [14/50], Step [400/1747], Loss: 0.4127\n",
            "Epoch [14/50], Step [500/1747], Loss: 0.1066\n",
            "Epoch [14/50], Step [600/1747], Loss: 0.2306\n",
            "Epoch [14/50], Step [700/1747], Loss: 0.0909\n",
            "Epoch [14/50], Step [800/1747], Loss: 0.4812\n",
            "Epoch [14/50], Step [900/1747], Loss: 0.1858\n",
            "Epoch [14/50], Step [1000/1747], Loss: 0.1272\n",
            "Epoch [14/50], Step [1100/1747], Loss: 0.5205\n",
            "Epoch [14/50], Step [1200/1747], Loss: 0.0878\n",
            "Epoch [14/50], Step [1300/1747], Loss: 0.0445\n",
            "Epoch [14/50], Step [1400/1747], Loss: 0.1347\n",
            "Epoch [14/50], Step [1500/1747], Loss: 0.5686\n",
            "Epoch [14/50], Step [1600/1747], Loss: 0.7050\n",
            "Epoch [14/50], Step [1700/1747], Loss: 0.0659\n",
            "correct: 15568\n",
            "total: 17476\n",
            "Accuracy on Epoch[14/50]: 89%\n",
            "Epoch [15/50], Step [100/1747], Loss: 0.0668\n",
            "Epoch [15/50], Step [200/1747], Loss: 0.2354\n",
            "Epoch [15/50], Step [300/1747], Loss: 0.4051\n",
            "Epoch [15/50], Step [400/1747], Loss: 0.4216\n",
            "Epoch [15/50], Step [500/1747], Loss: 0.1309\n",
            "Epoch [15/50], Step [600/1747], Loss: 0.2627\n",
            "Epoch [15/50], Step [700/1747], Loss: 0.1510\n",
            "Epoch [15/50], Step [800/1747], Loss: 15.2794\n",
            "Epoch [15/50], Step [900/1747], Loss: 0.2460\n",
            "Epoch [15/50], Step [1000/1747], Loss: 0.1225\n",
            "Epoch [15/50], Step [1100/1747], Loss: 0.4608\n",
            "Epoch [15/50], Step [1200/1747], Loss: 0.1438\n",
            "Epoch [15/50], Step [1300/1747], Loss: 0.0467\n",
            "Epoch [15/50], Step [1400/1747], Loss: 0.1767\n",
            "Epoch [15/50], Step [1500/1747], Loss: 0.6386\n",
            "Epoch [15/50], Step [1600/1747], Loss: 0.6622\n",
            "Epoch [15/50], Step [1700/1747], Loss: 0.1137\n",
            "correct: 15471\n",
            "total: 17476\n",
            "Accuracy on Epoch[15/50]: 88%\n",
            "Epoch [16/50], Step [100/1747], Loss: 0.1020\n",
            "Epoch [16/50], Step [200/1747], Loss: 0.2288\n",
            "Epoch [16/50], Step [300/1747], Loss: 0.3268\n",
            "Epoch [16/50], Step [400/1747], Loss: 0.4603\n",
            "Epoch [16/50], Step [500/1747], Loss: 0.3141\n",
            "Epoch [16/50], Step [600/1747], Loss: 0.2446\n",
            "Epoch [16/50], Step [700/1747], Loss: 0.1450\n",
            "Epoch [16/50], Step [800/1747], Loss: 0.4906\n",
            "Epoch [16/50], Step [900/1747], Loss: 0.1998\n",
            "Epoch [16/50], Step [1000/1747], Loss: 0.1043\n",
            "Epoch [16/50], Step [1100/1747], Loss: 0.3908\n",
            "Epoch [16/50], Step [1200/1747], Loss: 0.1209\n",
            "Epoch [16/50], Step [1300/1747], Loss: 0.0390\n",
            "Epoch [16/50], Step [1400/1747], Loss: 0.1667\n",
            "Epoch [16/50], Step [1500/1747], Loss: 0.6026\n",
            "Epoch [16/50], Step [1600/1747], Loss: 0.4492\n",
            "Epoch [16/50], Step [1700/1747], Loss: 0.1191\n",
            "correct: 15585\n",
            "total: 17476\n",
            "Accuracy on Epoch[16/50]: 89%\n",
            "Epoch [17/50], Step [100/1747], Loss: 0.0773\n",
            "Epoch [17/50], Step [200/1747], Loss: 0.2979\n",
            "Epoch [17/50], Step [300/1747], Loss: 0.3248\n",
            "Epoch [17/50], Step [400/1747], Loss: 0.4285\n",
            "Epoch [17/50], Step [500/1747], Loss: 0.2152\n",
            "Epoch [17/50], Step [600/1747], Loss: 0.2439\n",
            "Epoch [17/50], Step [700/1747], Loss: 0.1046\n",
            "Epoch [17/50], Step [800/1747], Loss: 0.4990\n",
            "Epoch [17/50], Step [900/1747], Loss: 0.2454\n",
            "Epoch [17/50], Step [1000/1747], Loss: 0.1081\n",
            "Epoch [17/50], Step [1100/1747], Loss: 0.3808\n",
            "Epoch [17/50], Step [1200/1747], Loss: 0.1362\n",
            "Epoch [17/50], Step [1300/1747], Loss: 0.0314\n",
            "Epoch [17/50], Step [1400/1747], Loss: 0.1588\n",
            "Epoch [17/50], Step [1500/1747], Loss: 0.5421\n",
            "Epoch [17/50], Step [1600/1747], Loss: 0.4250\n",
            "Epoch [17/50], Step [1700/1747], Loss: 0.0834\n",
            "correct: 15638\n",
            "total: 17476\n",
            "Accuracy on Epoch[17/50]: 89%\n",
            "Epoch [18/50], Step [100/1747], Loss: 0.0816\n",
            "Epoch [18/50], Step [200/1747], Loss: 0.3024\n",
            "Epoch [18/50], Step [300/1747], Loss: 0.5870\n",
            "Epoch [18/50], Step [400/1747], Loss: 0.4044\n",
            "Epoch [18/50], Step [500/1747], Loss: 0.0710\n",
            "Epoch [18/50], Step [600/1747], Loss: 0.2541\n",
            "Epoch [18/50], Step [700/1747], Loss: 0.1535\n",
            "Epoch [18/50], Step [800/1747], Loss: 0.4484\n",
            "Epoch [18/50], Step [900/1747], Loss: 0.2492\n",
            "Epoch [18/50], Step [1000/1747], Loss: 0.1089\n",
            "Epoch [18/50], Step [1100/1747], Loss: 0.4385\n",
            "Epoch [18/50], Step [1200/1747], Loss: 0.1859\n",
            "Epoch [18/50], Step [1300/1747], Loss: 0.0286\n",
            "Epoch [18/50], Step [1400/1747], Loss: 0.1050\n",
            "Epoch [18/50], Step [1500/1747], Loss: 0.6081\n",
            "Epoch [18/50], Step [1600/1747], Loss: 0.5708\n",
            "Epoch [18/50], Step [1700/1747], Loss: 0.0839\n",
            "correct: 15552\n",
            "total: 17476\n",
            "Accuracy on Epoch[18/50]: 88%\n",
            "Epoch [19/50], Step [100/1747], Loss: 0.0618\n",
            "Epoch [19/50], Step [200/1747], Loss: 0.2149\n",
            "Epoch [19/50], Step [300/1747], Loss: 0.4529\n",
            "Epoch [19/50], Step [400/1747], Loss: 0.4764\n",
            "Epoch [19/50], Step [500/1747], Loss: 0.2784\n",
            "Epoch [19/50], Step [600/1747], Loss: 0.3049\n",
            "Epoch [19/50], Step [700/1747], Loss: 0.0963\n",
            "Epoch [19/50], Step [800/1747], Loss: 0.4261\n",
            "Epoch [19/50], Step [900/1747], Loss: 0.3008\n",
            "Epoch [19/50], Step [1000/1747], Loss: 0.1190\n",
            "Epoch [19/50], Step [1100/1747], Loss: 0.4148\n",
            "Epoch [19/50], Step [1200/1747], Loss: 0.1062\n",
            "Epoch [19/50], Step [1300/1747], Loss: 0.0364\n",
            "Epoch [19/50], Step [1400/1747], Loss: 0.1682\n",
            "Epoch [19/50], Step [1500/1747], Loss: 0.5836\n",
            "Epoch [19/50], Step [1600/1747], Loss: 0.5465\n",
            "Epoch [19/50], Step [1700/1747], Loss: 0.0786\n",
            "correct: 15676\n",
            "total: 17476\n",
            "Accuracy on Epoch[19/50]: 89%\n",
            "Epoch [20/50], Step [100/1747], Loss: 0.0697\n",
            "Epoch [20/50], Step [200/1747], Loss: 0.2472\n",
            "Epoch [20/50], Step [300/1747], Loss: 0.4936\n",
            "Epoch [20/50], Step [400/1747], Loss: 0.4665\n",
            "Epoch [20/50], Step [500/1747], Loss: 0.1691\n",
            "Epoch [20/50], Step [600/1747], Loss: 0.2971\n",
            "Epoch [20/50], Step [700/1747], Loss: 0.1150\n",
            "Epoch [20/50], Step [800/1747], Loss: 0.4244\n",
            "Epoch [20/50], Step [900/1747], Loss: 0.2469\n",
            "Epoch [20/50], Step [1000/1747], Loss: 0.1121\n",
            "Epoch [20/50], Step [1100/1747], Loss: 0.3915\n",
            "Epoch [20/50], Step [1200/1747], Loss: 0.1260\n",
            "Epoch [20/50], Step [1300/1747], Loss: 0.1268\n",
            "Epoch [20/50], Step [1400/1747], Loss: 0.1593\n",
            "Epoch [20/50], Step [1500/1747], Loss: 0.5633\n",
            "Epoch [20/50], Step [1600/1747], Loss: 0.5912\n",
            "Epoch [20/50], Step [1700/1747], Loss: 0.0784\n",
            "correct: 15726\n",
            "total: 17476\n",
            "Accuracy on Epoch[20/50]: 89%\n",
            "Epoch [21/50], Step [100/1747], Loss: 0.0548\n",
            "Epoch [21/50], Step [200/1747], Loss: 0.2459\n",
            "Epoch [21/50], Step [300/1747], Loss: 0.3669\n",
            "Epoch [21/50], Step [400/1747], Loss: 0.4446\n",
            "Epoch [21/50], Step [500/1747], Loss: 0.1996\n",
            "Epoch [21/50], Step [600/1747], Loss: 0.2519\n",
            "Epoch [21/50], Step [700/1747], Loss: 0.0820\n",
            "Epoch [21/50], Step [800/1747], Loss: 0.4988\n",
            "Epoch [21/50], Step [900/1747], Loss: 0.2671\n",
            "Epoch [21/50], Step [1000/1747], Loss: 0.1275\n",
            "Epoch [21/50], Step [1100/1747], Loss: 0.3961\n",
            "Epoch [21/50], Step [1200/1747], Loss: 0.1401\n",
            "Epoch [21/50], Step [1300/1747], Loss: 0.0404\n",
            "Epoch [21/50], Step [1400/1747], Loss: 0.1178\n",
            "Epoch [21/50], Step [1500/1747], Loss: 0.4405\n",
            "Epoch [21/50], Step [1600/1747], Loss: 0.6008\n",
            "Epoch [21/50], Step [1700/1747], Loss: 0.1509\n",
            "correct: 15611\n",
            "total: 17476\n",
            "Accuracy on Epoch[21/50]: 89%\n",
            "Epoch [22/50], Step [100/1747], Loss: 0.0795\n",
            "Epoch [22/50], Step [200/1747], Loss: 0.1924\n",
            "Epoch [22/50], Step [300/1747], Loss: 0.4878\n",
            "Epoch [22/50], Step [400/1747], Loss: 0.4660\n",
            "Epoch [22/50], Step [500/1747], Loss: 0.1725\n",
            "Epoch [22/50], Step [600/1747], Loss: 0.2473\n",
            "Epoch [22/50], Step [700/1747], Loss: 0.0784\n",
            "Epoch [22/50], Step [800/1747], Loss: 1.9183\n",
            "Epoch [22/50], Step [900/1747], Loss: 0.3658\n",
            "Epoch [22/50], Step [1000/1747], Loss: 0.1296\n",
            "Epoch [22/50], Step [1100/1747], Loss: 0.5515\n",
            "Epoch [22/50], Step [1200/1747], Loss: 0.2436\n",
            "Epoch [22/50], Step [1300/1747], Loss: 0.0270\n",
            "Epoch [22/50], Step [1400/1747], Loss: 0.1590\n",
            "Epoch [22/50], Step [1500/1747], Loss: 0.6126\n",
            "Epoch [22/50], Step [1600/1747], Loss: 0.5329\n",
            "Epoch [22/50], Step [1700/1747], Loss: 0.0736\n",
            "correct: 15530\n",
            "total: 17476\n",
            "Accuracy on Epoch[22/50]: 88%\n",
            "Epoch [23/50], Step [100/1747], Loss: 0.0801\n",
            "Epoch [23/50], Step [200/1747], Loss: 0.2022\n",
            "Epoch [23/50], Step [300/1747], Loss: 0.4568\n",
            "Epoch [23/50], Step [400/1747], Loss: 0.3783\n",
            "Epoch [23/50], Step [500/1747], Loss: 0.4481\n",
            "Epoch [23/50], Step [600/1747], Loss: 0.2695\n",
            "Epoch [23/50], Step [700/1747], Loss: 0.0971\n",
            "Epoch [23/50], Step [800/1747], Loss: 0.5736\n",
            "Epoch [23/50], Step [900/1747], Loss: 0.2550\n",
            "Epoch [23/50], Step [1000/1747], Loss: 0.1502\n",
            "Epoch [23/50], Step [1100/1747], Loss: 0.4258\n",
            "Epoch [23/50], Step [1200/1747], Loss: 0.1671\n",
            "Epoch [23/50], Step [1300/1747], Loss: 0.0286\n",
            "Epoch [23/50], Step [1400/1747], Loss: 0.1700\n",
            "Epoch [23/50], Step [1500/1747], Loss: 0.6129\n",
            "Epoch [23/50], Step [1600/1747], Loss: 0.4429\n",
            "Epoch [23/50], Step [1700/1747], Loss: 0.0868\n",
            "correct: 15695\n",
            "total: 17476\n",
            "Accuracy on Epoch[23/50]: 89%\n",
            "Epoch [24/50], Step [100/1747], Loss: 0.0747\n",
            "Epoch [24/50], Step [200/1747], Loss: 0.2356\n",
            "Epoch [24/50], Step [300/1747], Loss: 0.2792\n",
            "Epoch [24/50], Step [400/1747], Loss: 0.3658\n",
            "Epoch [24/50], Step [500/1747], Loss: 0.2191\n",
            "Epoch [24/50], Step [600/1747], Loss: 0.2655\n",
            "Epoch [24/50], Step [700/1747], Loss: 0.0772\n",
            "Epoch [24/50], Step [800/1747], Loss: 0.4637\n",
            "Epoch [24/50], Step [900/1747], Loss: 0.3469\n",
            "Epoch [24/50], Step [1000/1747], Loss: 0.1290\n",
            "Epoch [24/50], Step [1100/1747], Loss: 0.3665\n",
            "Epoch [24/50], Step [1200/1747], Loss: 0.1861\n",
            "Epoch [24/50], Step [1300/1747], Loss: 0.0331\n",
            "Epoch [24/50], Step [1400/1747], Loss: 0.2072\n",
            "Epoch [24/50], Step [1500/1747], Loss: 0.6066\n",
            "Epoch [24/50], Step [1600/1747], Loss: 0.6350\n",
            "Epoch [24/50], Step [1700/1747], Loss: 0.1096\n",
            "correct: 15759\n",
            "total: 17476\n",
            "Accuracy on Epoch[24/50]: 90%\n",
            "Epoch [25/50], Step [100/1747], Loss: 0.1268\n",
            "Epoch [25/50], Step [200/1747], Loss: 0.2022\n",
            "Epoch [25/50], Step [300/1747], Loss: 0.2748\n",
            "Epoch [25/50], Step [400/1747], Loss: 0.5018\n",
            "Epoch [25/50], Step [500/1747], Loss: 0.2097\n",
            "Epoch [25/50], Step [600/1747], Loss: 0.2456\n",
            "Epoch [25/50], Step [700/1747], Loss: 0.0952\n",
            "Epoch [25/50], Step [800/1747], Loss: 0.4482\n",
            "Epoch [25/50], Step [900/1747], Loss: 0.2389\n",
            "Epoch [25/50], Step [1000/1747], Loss: 0.1257\n",
            "Epoch [25/50], Step [1100/1747], Loss: 0.3891\n",
            "Epoch [25/50], Step [1200/1747], Loss: 0.1081\n",
            "Epoch [25/50], Step [1300/1747], Loss: 0.0310\n",
            "Epoch [25/50], Step [1400/1747], Loss: 0.1253\n",
            "Epoch [25/50], Step [1500/1747], Loss: 0.3653\n",
            "Epoch [25/50], Step [1600/1747], Loss: 0.4447\n",
            "Epoch [25/50], Step [1700/1747], Loss: 0.0726\n",
            "correct: 15775\n",
            "total: 17476\n",
            "Accuracy on Epoch[25/50]: 90%\n",
            "Epoch [26/50], Step [100/1747], Loss: 0.1102\n",
            "Epoch [26/50], Step [200/1747], Loss: 0.4223\n",
            "Epoch [26/50], Step [300/1747], Loss: 0.2973\n",
            "Epoch [26/50], Step [400/1747], Loss: 0.3678\n",
            "Epoch [26/50], Step [500/1747], Loss: 0.2197\n",
            "Epoch [26/50], Step [600/1747], Loss: 0.2344\n",
            "Epoch [26/50], Step [700/1747], Loss: 0.0854\n",
            "Epoch [26/50], Step [800/1747], Loss: 0.6409\n",
            "Epoch [26/50], Step [900/1747], Loss: 0.2926\n",
            "Epoch [26/50], Step [1000/1747], Loss: 0.1097\n",
            "Epoch [26/50], Step [1100/1747], Loss: 0.4821\n",
            "Epoch [26/50], Step [1200/1747], Loss: 0.1222\n",
            "Epoch [26/50], Step [1300/1747], Loss: 0.0277\n",
            "Epoch [26/50], Step [1400/1747], Loss: 0.1572\n",
            "Epoch [26/50], Step [1500/1747], Loss: 0.4925\n",
            "Epoch [26/50], Step [1600/1747], Loss: 0.5460\n",
            "Epoch [26/50], Step [1700/1747], Loss: 0.0886\n",
            "correct: 15443\n",
            "total: 17476\n",
            "Accuracy on Epoch[26/50]: 88%\n",
            "Epoch [27/50], Step [100/1747], Loss: 0.1110\n",
            "Epoch [27/50], Step [200/1747], Loss: 0.2152\n",
            "Epoch [27/50], Step [300/1747], Loss: 0.4389\n",
            "Epoch [27/50], Step [400/1747], Loss: 0.4730\n",
            "Epoch [27/50], Step [500/1747], Loss: 0.1423\n",
            "Epoch [27/50], Step [600/1747], Loss: 0.2248\n",
            "Epoch [27/50], Step [700/1747], Loss: 0.0690\n",
            "Epoch [27/50], Step [800/1747], Loss: 0.4323\n",
            "Epoch [27/50], Step [900/1747], Loss: 0.2545\n",
            "Epoch [27/50], Step [1000/1747], Loss: 0.1229\n",
            "Epoch [27/50], Step [1100/1747], Loss: 0.4139\n",
            "Epoch [27/50], Step [1200/1747], Loss: 0.0729\n",
            "Epoch [27/50], Step [1300/1747], Loss: 0.0352\n",
            "Epoch [27/50], Step [1400/1747], Loss: 0.1525\n",
            "Epoch [27/50], Step [1500/1747], Loss: 0.5275\n",
            "Epoch [27/50], Step [1600/1747], Loss: 0.4543\n",
            "Epoch [27/50], Step [1700/1747], Loss: 0.0845\n",
            "correct: 15702\n",
            "total: 17476\n",
            "Accuracy on Epoch[27/50]: 89%\n",
            "Epoch [28/50], Step [100/1747], Loss: 0.1093\n",
            "Epoch [28/50], Step [200/1747], Loss: 0.1996\n",
            "Epoch [28/50], Step [300/1747], Loss: 0.5174\n",
            "Epoch [28/50], Step [400/1747], Loss: 0.4218\n",
            "Epoch [28/50], Step [500/1747], Loss: 0.1294\n",
            "Epoch [28/50], Step [600/1747], Loss: 0.2245\n",
            "Epoch [28/50], Step [700/1747], Loss: 0.1219\n",
            "Epoch [28/50], Step [800/1747], Loss: 1.1518\n",
            "Epoch [28/50], Step [900/1747], Loss: 0.2600\n",
            "Epoch [28/50], Step [1000/1747], Loss: 0.1105\n",
            "Epoch [28/50], Step [1100/1747], Loss: 0.4006\n",
            "Epoch [28/50], Step [1200/1747], Loss: 0.1166\n",
            "Epoch [28/50], Step [1300/1747], Loss: 0.0531\n",
            "Epoch [28/50], Step [1400/1747], Loss: 0.0591\n",
            "Epoch [28/50], Step [1500/1747], Loss: 0.4466\n",
            "Epoch [28/50], Step [1600/1747], Loss: 0.5925\n",
            "Epoch [28/50], Step [1700/1747], Loss: 0.1094\n",
            "correct: 15711\n",
            "total: 17476\n",
            "Accuracy on Epoch[28/50]: 89%\n",
            "Epoch [29/50], Step [100/1747], Loss: 0.1777\n",
            "Epoch [29/50], Step [200/1747], Loss: 0.4301\n",
            "Epoch [29/50], Step [300/1747], Loss: 0.8013\n",
            "Epoch [29/50], Step [400/1747], Loss: 0.4935\n",
            "Epoch [29/50], Step [500/1747], Loss: 0.1449\n",
            "Epoch [29/50], Step [600/1747], Loss: 0.3641\n",
            "Epoch [29/50], Step [700/1747], Loss: 0.1268\n",
            "Epoch [29/50], Step [800/1747], Loss: 0.3867\n",
            "Epoch [29/50], Step [900/1747], Loss: 0.3045\n",
            "Epoch [29/50], Step [1000/1747], Loss: 0.1395\n",
            "Epoch [29/50], Step [1100/1747], Loss: 0.5802\n",
            "Epoch [29/50], Step [1200/1747], Loss: 0.0678\n",
            "Epoch [29/50], Step [1300/1747], Loss: 0.0426\n",
            "Epoch [29/50], Step [1400/1747], Loss: 0.1544\n",
            "Epoch [29/50], Step [1500/1747], Loss: 0.4196\n",
            "Epoch [29/50], Step [1600/1747], Loss: 0.2805\n",
            "Epoch [29/50], Step [1700/1747], Loss: 0.1060\n",
            "correct: 15304\n",
            "total: 17476\n",
            "Accuracy on Epoch[29/50]: 87%\n",
            "Epoch [30/50], Step [100/1747], Loss: 0.0823\n",
            "Epoch [30/50], Step [200/1747], Loss: 0.2947\n",
            "Epoch [30/50], Step [300/1747], Loss: 0.5411\n",
            "Epoch [30/50], Step [400/1747], Loss: 0.4129\n",
            "Epoch [30/50], Step [500/1747], Loss: 0.1368\n",
            "Epoch [30/50], Step [600/1747], Loss: 0.2554\n",
            "Epoch [30/50], Step [700/1747], Loss: 0.1656\n",
            "Epoch [30/50], Step [800/1747], Loss: 0.4345\n",
            "Epoch [30/50], Step [900/1747], Loss: 0.2378\n",
            "Epoch [30/50], Step [1000/1747], Loss: 0.1170\n",
            "Epoch [30/50], Step [1100/1747], Loss: 0.4629\n",
            "Epoch [30/50], Step [1200/1747], Loss: 0.0380\n",
            "Epoch [30/50], Step [1300/1747], Loss: 0.0437\n",
            "Epoch [30/50], Step [1400/1747], Loss: 0.1669\n",
            "Epoch [30/50], Step [1500/1747], Loss: 0.4144\n",
            "Epoch [30/50], Step [1600/1747], Loss: 0.4410\n",
            "Epoch [30/50], Step [1700/1747], Loss: 0.1098\n",
            "correct: 15598\n",
            "total: 17476\n",
            "Accuracy on Epoch[30/50]: 89%\n",
            "Epoch [31/50], Step [100/1747], Loss: 0.1036\n",
            "Epoch [31/50], Step [200/1747], Loss: 0.2413\n",
            "Epoch [31/50], Step [300/1747], Loss: 0.5943\n",
            "Epoch [31/50], Step [400/1747], Loss: 0.4880\n",
            "Epoch [31/50], Step [500/1747], Loss: 0.1555\n",
            "Epoch [31/50], Step [600/1747], Loss: 0.2427\n",
            "Epoch [31/50], Step [700/1747], Loss: 0.0832\n",
            "Epoch [31/50], Step [800/1747], Loss: 0.4540\n",
            "Epoch [31/50], Step [900/1747], Loss: 0.2348\n",
            "Epoch [31/50], Step [1000/1747], Loss: 0.0962\n",
            "Epoch [31/50], Step [1100/1747], Loss: 0.4197\n",
            "Epoch [31/50], Step [1200/1747], Loss: 0.0524\n",
            "Epoch [31/50], Step [1300/1747], Loss: 0.0355\n",
            "Epoch [31/50], Step [1400/1747], Loss: 0.2088\n",
            "Epoch [31/50], Step [1500/1747], Loss: 0.4641\n",
            "Epoch [31/50], Step [1600/1747], Loss: 0.4753\n",
            "Epoch [31/50], Step [1700/1747], Loss: 0.1167\n",
            "correct: 15724\n",
            "total: 17476\n",
            "Accuracy on Epoch[31/50]: 89%\n",
            "Epoch [32/50], Step [100/1747], Loss: 0.1529\n",
            "Epoch [32/50], Step [200/1747], Loss: 0.3299\n",
            "Epoch [32/50], Step [300/1747], Loss: 0.3689\n",
            "Epoch [32/50], Step [400/1747], Loss: 0.3963\n",
            "Epoch [32/50], Step [500/1747], Loss: 0.1110\n",
            "Epoch [32/50], Step [600/1747], Loss: 0.2675\n",
            "Epoch [32/50], Step [700/1747], Loss: 0.0723\n",
            "Epoch [32/50], Step [800/1747], Loss: 0.4532\n",
            "Epoch [32/50], Step [900/1747], Loss: 0.3708\n",
            "Epoch [32/50], Step [1000/1747], Loss: 0.1373\n",
            "Epoch [32/50], Step [1100/1747], Loss: 0.4128\n",
            "Epoch [32/50], Step [1200/1747], Loss: 0.0638\n",
            "Epoch [32/50], Step [1300/1747], Loss: 0.0325\n",
            "Epoch [32/50], Step [1400/1747], Loss: 0.1982\n",
            "Epoch [32/50], Step [1500/1747], Loss: 0.4325\n",
            "Epoch [32/50], Step [1600/1747], Loss: 0.4908\n",
            "Epoch [32/50], Step [1700/1747], Loss: 0.1620\n",
            "correct: 15579\n",
            "total: 17476\n",
            "Accuracy on Epoch[32/50]: 89%\n",
            "Epoch [33/50], Step [100/1747], Loss: 0.1226\n",
            "Epoch [33/50], Step [200/1747], Loss: 0.2736\n",
            "Epoch [33/50], Step [300/1747], Loss: 0.6187\n",
            "Epoch [33/50], Step [400/1747], Loss: 0.3789\n",
            "Epoch [33/50], Step [500/1747], Loss: 0.1115\n",
            "Epoch [33/50], Step [600/1747], Loss: 0.2568\n",
            "Epoch [33/50], Step [700/1747], Loss: 0.1265\n",
            "Epoch [33/50], Step [800/1747], Loss: 0.5384\n",
            "Epoch [33/50], Step [900/1747], Loss: 0.2448\n",
            "Epoch [33/50], Step [1000/1747], Loss: 0.1829\n",
            "Epoch [33/50], Step [1100/1747], Loss: 0.4167\n",
            "Epoch [33/50], Step [1200/1747], Loss: 0.1219\n",
            "Epoch [33/50], Step [1300/1747], Loss: 0.0419\n",
            "Epoch [33/50], Step [1400/1747], Loss: 0.1670\n",
            "Epoch [33/50], Step [1500/1747], Loss: 0.5062\n",
            "Epoch [33/50], Step [1600/1747], Loss: 0.6379\n",
            "Epoch [33/50], Step [1700/1747], Loss: 0.1093\n",
            "correct: 15556\n",
            "total: 17476\n",
            "Accuracy on Epoch[33/50]: 89%\n",
            "Epoch [34/50], Step [100/1747], Loss: 0.1075\n",
            "Epoch [34/50], Step [200/1747], Loss: 0.3867\n",
            "Epoch [34/50], Step [300/1747], Loss: 0.4970\n",
            "Epoch [34/50], Step [400/1747], Loss: 0.4048\n",
            "Epoch [34/50], Step [500/1747], Loss: 0.2354\n",
            "Epoch [34/50], Step [600/1747], Loss: 0.2087\n",
            "Epoch [34/50], Step [700/1747], Loss: 0.1172\n",
            "Epoch [34/50], Step [800/1747], Loss: 0.5087\n",
            "Epoch [34/50], Step [900/1747], Loss: 0.2423\n",
            "Epoch [34/50], Step [1000/1747], Loss: 0.1525\n",
            "Epoch [34/50], Step [1100/1747], Loss: 0.4649\n",
            "Epoch [34/50], Step [1200/1747], Loss: 0.3228\n",
            "Epoch [34/50], Step [1300/1747], Loss: 0.0426\n",
            "Epoch [34/50], Step [1400/1747], Loss: 0.1543\n",
            "Epoch [34/50], Step [1500/1747], Loss: 0.4732\n",
            "Epoch [34/50], Step [1600/1747], Loss: 0.4803\n",
            "Epoch [34/50], Step [1700/1747], Loss: 0.1355\n",
            "correct: 15564\n",
            "total: 17476\n",
            "Accuracy on Epoch[34/50]: 89%\n",
            "Epoch [35/50], Step [100/1747], Loss: 0.0807\n",
            "Epoch [35/50], Step [200/1747], Loss: 0.2427\n",
            "Epoch [35/50], Step [300/1747], Loss: 0.8481\n",
            "Epoch [35/50], Step [400/1747], Loss: 0.6770\n",
            "Epoch [35/50], Step [500/1747], Loss: 0.1771\n",
            "Epoch [35/50], Step [600/1747], Loss: 0.2045\n",
            "Epoch [35/50], Step [700/1747], Loss: 0.0735\n",
            "Epoch [35/50], Step [800/1747], Loss: 0.5280\n",
            "Epoch [35/50], Step [900/1747], Loss: 0.2743\n",
            "Epoch [35/50], Step [1000/1747], Loss: 0.1379\n",
            "Epoch [35/50], Step [1100/1747], Loss: 0.4432\n",
            "Epoch [35/50], Step [1200/1747], Loss: 0.0658\n",
            "Epoch [35/50], Step [1300/1747], Loss: 0.0598\n",
            "Epoch [35/50], Step [1400/1747], Loss: 0.1130\n",
            "Epoch [35/50], Step [1500/1747], Loss: 0.3320\n",
            "Epoch [35/50], Step [1600/1747], Loss: 0.8537\n",
            "Epoch [35/50], Step [1700/1747], Loss: 0.1372\n",
            "correct: 15565\n",
            "total: 17476\n",
            "Accuracy on Epoch[35/50]: 89%\n",
            "Epoch [36/50], Step [100/1747], Loss: 0.0734\n",
            "Epoch [36/50], Step [200/1747], Loss: 0.2848\n",
            "Epoch [36/50], Step [300/1747], Loss: 0.3961\n",
            "Epoch [36/50], Step [400/1747], Loss: 0.3457\n",
            "Epoch [36/50], Step [500/1747], Loss: 0.1969\n",
            "Epoch [36/50], Step [600/1747], Loss: 0.2561\n",
            "Epoch [36/50], Step [700/1747], Loss: 0.0650\n",
            "Epoch [36/50], Step [800/1747], Loss: 0.5703\n",
            "Epoch [36/50], Step [900/1747], Loss: 0.3442\n",
            "Epoch [36/50], Step [1000/1747], Loss: 0.1365\n",
            "Epoch [36/50], Step [1100/1747], Loss: 0.4471\n",
            "Epoch [36/50], Step [1200/1747], Loss: 0.0596\n",
            "Epoch [36/50], Step [1300/1747], Loss: 0.0321\n",
            "Epoch [36/50], Step [1400/1747], Loss: 0.1107\n",
            "Epoch [36/50], Step [1500/1747], Loss: 0.4712\n",
            "Epoch [36/50], Step [1600/1747], Loss: 0.5017\n",
            "Epoch [36/50], Step [1700/1747], Loss: 0.0996\n",
            "correct: 15721\n",
            "total: 17476\n",
            "Accuracy on Epoch[36/50]: 89%\n",
            "Epoch [37/50], Step [100/1747], Loss: 0.0632\n",
            "Epoch [37/50], Step [200/1747], Loss: 0.3059\n",
            "Epoch [37/50], Step [300/1747], Loss: 0.3746\n",
            "Epoch [37/50], Step [400/1747], Loss: 0.3767\n",
            "Epoch [37/50], Step [500/1747], Loss: 0.1130\n",
            "Epoch [37/50], Step [600/1747], Loss: 0.2640\n",
            "Epoch [37/50], Step [700/1747], Loss: 0.1377\n",
            "Epoch [37/50], Step [800/1747], Loss: 0.4058\n",
            "Epoch [37/50], Step [900/1747], Loss: 0.2109\n",
            "Epoch [37/50], Step [1000/1747], Loss: 0.1209\n",
            "Epoch [37/50], Step [1100/1747], Loss: 0.3816\n",
            "Epoch [37/50], Step [1200/1747], Loss: 0.0546\n",
            "Epoch [37/50], Step [1300/1747], Loss: 0.0311\n",
            "Epoch [37/50], Step [1400/1747], Loss: 0.0750\n",
            "Epoch [37/50], Step [1500/1747], Loss: 0.4730\n",
            "Epoch [37/50], Step [1600/1747], Loss: 0.4927\n",
            "Epoch [37/50], Step [1700/1747], Loss: 0.1036\n",
            "correct: 15713\n",
            "total: 17476\n",
            "Accuracy on Epoch[37/50]: 89%\n",
            "Epoch [38/50], Step [100/1747], Loss: 0.0815\n",
            "Epoch [38/50], Step [200/1747], Loss: 0.3491\n",
            "Epoch [38/50], Step [300/1747], Loss: 0.2994\n",
            "Epoch [38/50], Step [400/1747], Loss: 0.3490\n",
            "Epoch [38/50], Step [500/1747], Loss: 0.2810\n",
            "Epoch [38/50], Step [600/1747], Loss: 0.2623\n",
            "Epoch [38/50], Step [700/1747], Loss: 0.1888\n",
            "Epoch [38/50], Step [800/1747], Loss: 0.7785\n",
            "Epoch [38/50], Step [900/1747], Loss: 0.3054\n",
            "Epoch [38/50], Step [1000/1747], Loss: 0.1289\n",
            "Epoch [38/50], Step [1100/1747], Loss: 0.3970\n",
            "Epoch [38/50], Step [1200/1747], Loss: 0.1445\n",
            "Epoch [38/50], Step [1300/1747], Loss: 0.0404\n",
            "Epoch [38/50], Step [1400/1747], Loss: 0.1462\n",
            "Epoch [38/50], Step [1500/1747], Loss: 0.3633\n",
            "Epoch [38/50], Step [1600/1747], Loss: 0.6144\n",
            "Epoch [38/50], Step [1700/1747], Loss: 0.1050\n",
            "correct: 15677\n",
            "total: 17476\n",
            "Accuracy on Epoch[38/50]: 89%\n",
            "Epoch [39/50], Step [100/1747], Loss: 0.0864\n",
            "Epoch [39/50], Step [200/1747], Loss: 0.2670\n",
            "Epoch [39/50], Step [300/1747], Loss: 0.5013\n",
            "Epoch [39/50], Step [400/1747], Loss: 0.4277\n",
            "Epoch [39/50], Step [500/1747], Loss: 0.1681\n",
            "Epoch [39/50], Step [600/1747], Loss: 0.2608\n",
            "Epoch [39/50], Step [700/1747], Loss: 0.1374\n",
            "Epoch [39/50], Step [800/1747], Loss: 0.7952\n",
            "Epoch [39/50], Step [900/1747], Loss: 0.2125\n",
            "Epoch [39/50], Step [1000/1747], Loss: 0.1006\n",
            "Epoch [39/50], Step [1100/1747], Loss: 0.6911\n",
            "Epoch [39/50], Step [1200/1747], Loss: 0.0330\n",
            "Epoch [39/50], Step [1300/1747], Loss: 0.0393\n",
            "Epoch [39/50], Step [1400/1747], Loss: 0.2038\n",
            "Epoch [39/50], Step [1500/1747], Loss: 0.4776\n",
            "Epoch [39/50], Step [1600/1747], Loss: 0.3977\n",
            "Epoch [39/50], Step [1700/1747], Loss: 0.2005\n",
            "correct: 15695\n",
            "total: 17476\n",
            "Accuracy on Epoch[39/50]: 89%\n",
            "Epoch [40/50], Step [100/1747], Loss: 0.0956\n",
            "Epoch [40/50], Step [200/1747], Loss: 0.3254\n",
            "Epoch [40/50], Step [300/1747], Loss: 0.5261\n",
            "Epoch [40/50], Step [400/1747], Loss: 0.4334\n",
            "Epoch [40/50], Step [500/1747], Loss: 0.3063\n",
            "Epoch [40/50], Step [600/1747], Loss: 0.2489\n",
            "Epoch [40/50], Step [700/1747], Loss: 0.1439\n",
            "Epoch [40/50], Step [800/1747], Loss: 0.4605\n",
            "Epoch [40/50], Step [900/1747], Loss: 0.4011\n",
            "Epoch [40/50], Step [1000/1747], Loss: 0.1639\n",
            "Epoch [40/50], Step [1100/1747], Loss: 0.3961\n",
            "Epoch [40/50], Step [1200/1747], Loss: 0.0989\n",
            "Epoch [40/50], Step [1300/1747], Loss: 0.0404\n",
            "Epoch [40/50], Step [1400/1747], Loss: 0.3060\n",
            "Epoch [40/50], Step [1500/1747], Loss: 0.3615\n",
            "Epoch [40/50], Step [1600/1747], Loss: 0.3262\n",
            "Epoch [40/50], Step [1700/1747], Loss: 0.1526\n",
            "correct: 15654\n",
            "total: 17476\n",
            "Accuracy on Epoch[40/50]: 89%\n",
            "Epoch [41/50], Step [100/1747], Loss: 0.1067\n",
            "Epoch [41/50], Step [200/1747], Loss: 0.2499\n",
            "Epoch [41/50], Step [300/1747], Loss: 0.8922\n",
            "Epoch [41/50], Step [400/1747], Loss: 0.4469\n",
            "Epoch [41/50], Step [500/1747], Loss: 0.1642\n",
            "Epoch [41/50], Step [600/1747], Loss: 0.2444\n",
            "Epoch [41/50], Step [700/1747], Loss: 0.1103\n",
            "Epoch [41/50], Step [800/1747], Loss: 0.7737\n",
            "Epoch [41/50], Step [900/1747], Loss: 0.3650\n",
            "Epoch [41/50], Step [1000/1747], Loss: 0.1265\n",
            "Epoch [41/50], Step [1100/1747], Loss: 0.4420\n",
            "Epoch [41/50], Step [1200/1747], Loss: 0.0361\n",
            "Epoch [41/50], Step [1300/1747], Loss: 0.0461\n",
            "Epoch [41/50], Step [1400/1747], Loss: 0.1028\n",
            "Epoch [41/50], Step [1500/1747], Loss: 0.5146\n",
            "Epoch [41/50], Step [1600/1747], Loss: 0.4653\n",
            "Epoch [41/50], Step [1700/1747], Loss: 0.1700\n",
            "correct: 15660\n",
            "total: 17476\n",
            "Accuracy on Epoch[41/50]: 89%\n",
            "Epoch [42/50], Step [100/1747], Loss: 0.0764\n",
            "Epoch [42/50], Step [200/1747], Loss: 0.3073\n",
            "Epoch [42/50], Step [300/1747], Loss: 0.3404\n",
            "Epoch [42/50], Step [400/1747], Loss: 0.4412\n",
            "Epoch [42/50], Step [500/1747], Loss: 0.1376\n",
            "Epoch [42/50], Step [600/1747], Loss: 0.2635\n",
            "Epoch [42/50], Step [700/1747], Loss: 0.0661\n",
            "Epoch [42/50], Step [800/1747], Loss: 0.3776\n",
            "Epoch [42/50], Step [900/1747], Loss: 0.4583\n",
            "Epoch [42/50], Step [1000/1747], Loss: 0.1260\n",
            "Epoch [42/50], Step [1100/1747], Loss: 0.4189\n",
            "Epoch [42/50], Step [1200/1747], Loss: 0.0697\n",
            "Epoch [42/50], Step [1300/1747], Loss: 0.0409\n",
            "Epoch [42/50], Step [1400/1747], Loss: 0.1406\n",
            "Epoch [42/50], Step [1500/1747], Loss: 0.5252\n",
            "Epoch [42/50], Step [1600/1747], Loss: 0.4753\n",
            "Epoch [42/50], Step [1700/1747], Loss: 0.1013\n",
            "correct: 15725\n",
            "total: 17476\n",
            "Accuracy on Epoch[42/50]: 89%\n",
            "Epoch [43/50], Step [100/1747], Loss: 0.0911\n",
            "Epoch [43/50], Step [200/1747], Loss: 0.2508\n",
            "Epoch [43/50], Step [300/1747], Loss: 0.4091\n",
            "Epoch [43/50], Step [400/1747], Loss: 0.3854\n",
            "Epoch [43/50], Step [500/1747], Loss: 0.1261\n",
            "Epoch [43/50], Step [600/1747], Loss: 0.2627\n",
            "Epoch [43/50], Step [700/1747], Loss: 0.0463\n",
            "Epoch [43/50], Step [800/1747], Loss: 0.4289\n",
            "Epoch [43/50], Step [900/1747], Loss: 0.3494\n",
            "Epoch [43/50], Step [1000/1747], Loss: 0.1448\n",
            "Epoch [43/50], Step [1100/1747], Loss: 0.5017\n",
            "Epoch [43/50], Step [1200/1747], Loss: 0.0701\n",
            "Epoch [43/50], Step [1300/1747], Loss: 0.0378\n",
            "Epoch [43/50], Step [1400/1747], Loss: 0.1735\n",
            "Epoch [43/50], Step [1500/1747], Loss: 0.4309\n",
            "Epoch [43/50], Step [1600/1747], Loss: 0.4671\n",
            "Epoch [43/50], Step [1700/1747], Loss: 0.1455\n",
            "correct: 15734\n",
            "total: 17476\n",
            "Accuracy on Epoch[43/50]: 90%\n",
            "Epoch [44/50], Step [100/1747], Loss: 0.1596\n",
            "Epoch [44/50], Step [200/1747], Loss: 0.2987\n",
            "Epoch [44/50], Step [300/1747], Loss: 0.5216\n",
            "Epoch [44/50], Step [400/1747], Loss: 0.4349\n",
            "Epoch [44/50], Step [500/1747], Loss: 0.1572\n",
            "Epoch [44/50], Step [600/1747], Loss: 0.2498\n",
            "Epoch [44/50], Step [700/1747], Loss: 0.0811\n",
            "Epoch [44/50], Step [800/1747], Loss: 0.3870\n",
            "Epoch [44/50], Step [900/1747], Loss: 0.2252\n",
            "Epoch [44/50], Step [1000/1747], Loss: 0.0867\n",
            "Epoch [44/50], Step [1100/1747], Loss: 0.3793\n",
            "Epoch [44/50], Step [1200/1747], Loss: 0.0484\n",
            "Epoch [44/50], Step [1300/1747], Loss: 0.0478\n",
            "Epoch [44/50], Step [1400/1747], Loss: 0.1306\n",
            "Epoch [44/50], Step [1500/1747], Loss: 0.5254\n",
            "Epoch [44/50], Step [1600/1747], Loss: 0.6470\n",
            "Epoch [44/50], Step [1700/1747], Loss: 0.0846\n",
            "correct: 15662\n",
            "total: 17476\n",
            "Accuracy on Epoch[44/50]: 89%\n",
            "Epoch [45/50], Step [100/1747], Loss: 0.0905\n",
            "Epoch [45/50], Step [200/1747], Loss: 0.3379\n",
            "Epoch [45/50], Step [300/1747], Loss: 0.3132\n",
            "Epoch [45/50], Step [400/1747], Loss: 0.3666\n",
            "Epoch [45/50], Step [500/1747], Loss: 0.1267\n",
            "Epoch [45/50], Step [600/1747], Loss: 0.2281\n",
            "Epoch [45/50], Step [700/1747], Loss: 0.0889\n",
            "Epoch [45/50], Step [800/1747], Loss: 0.4470\n",
            "Epoch [45/50], Step [900/1747], Loss: 0.2954\n",
            "Epoch [45/50], Step [1000/1747], Loss: 0.1203\n",
            "Epoch [45/50], Step [1100/1747], Loss: 0.4035\n",
            "Epoch [45/50], Step [1200/1747], Loss: 0.0449\n",
            "Epoch [45/50], Step [1300/1747], Loss: 0.0366\n",
            "Epoch [45/50], Step [1400/1747], Loss: 0.0387\n",
            "Epoch [45/50], Step [1500/1747], Loss: 0.4269\n",
            "Epoch [45/50], Step [1600/1747], Loss: 0.4521\n",
            "Epoch [45/50], Step [1700/1747], Loss: 0.1276\n",
            "correct: 15695\n",
            "total: 17476\n",
            "Accuracy on Epoch[45/50]: 89%\n",
            "Epoch [46/50], Step [100/1747], Loss: 0.0808\n",
            "Epoch [46/50], Step [200/1747], Loss: 0.3082\n",
            "Epoch [46/50], Step [300/1747], Loss: 0.5004\n",
            "Epoch [46/50], Step [400/1747], Loss: 0.3776\n",
            "Epoch [46/50], Step [500/1747], Loss: 0.1615\n",
            "Epoch [46/50], Step [600/1747], Loss: 0.2768\n",
            "Epoch [46/50], Step [700/1747], Loss: 0.0990\n",
            "Epoch [46/50], Step [800/1747], Loss: 0.4297\n",
            "Epoch [46/50], Step [900/1747], Loss: 0.2308\n",
            "Epoch [46/50], Step [1000/1747], Loss: 0.1317\n",
            "Epoch [46/50], Step [1100/1747], Loss: 0.4016\n",
            "Epoch [46/50], Step [1200/1747], Loss: 0.0515\n",
            "Epoch [46/50], Step [1300/1747], Loss: 0.0496\n",
            "Epoch [46/50], Step [1400/1747], Loss: 0.1267\n",
            "Epoch [46/50], Step [1500/1747], Loss: 0.6642\n",
            "Epoch [46/50], Step [1600/1747], Loss: 0.5716\n",
            "Epoch [46/50], Step [1700/1747], Loss: 0.1022\n",
            "correct: 15732\n",
            "total: 17476\n",
            "Accuracy on Epoch[46/50]: 90%\n",
            "Epoch [47/50], Step [100/1747], Loss: 0.0993\n",
            "Epoch [47/50], Step [200/1747], Loss: 0.4671\n",
            "Epoch [47/50], Step [300/1747], Loss: 0.4960\n",
            "Epoch [47/50], Step [400/1747], Loss: 0.3686\n",
            "Epoch [47/50], Step [500/1747], Loss: 0.1738\n",
            "Epoch [47/50], Step [600/1747], Loss: 0.2443\n",
            "Epoch [47/50], Step [700/1747], Loss: 0.1554\n",
            "Epoch [47/50], Step [800/1747], Loss: 0.3387\n",
            "Epoch [47/50], Step [900/1747], Loss: 0.2200\n",
            "Epoch [47/50], Step [1000/1747], Loss: 0.1356\n",
            "Epoch [47/50], Step [1100/1747], Loss: 0.3845\n",
            "Epoch [47/50], Step [1200/1747], Loss: 0.0775\n",
            "Epoch [47/50], Step [1300/1747], Loss: 0.0469\n",
            "Epoch [47/50], Step [1400/1747], Loss: 0.1170\n",
            "Epoch [47/50], Step [1500/1747], Loss: 0.5223\n",
            "Epoch [47/50], Step [1600/1747], Loss: 0.6985\n",
            "Epoch [47/50], Step [1700/1747], Loss: 0.0813\n",
            "correct: 15671\n",
            "total: 17476\n",
            "Accuracy on Epoch[47/50]: 89%\n",
            "Epoch [48/50], Step [100/1747], Loss: 0.1123\n",
            "Epoch [48/50], Step [200/1747], Loss: 0.2582\n",
            "Epoch [48/50], Step [300/1747], Loss: 0.3011\n",
            "Epoch [48/50], Step [400/1747], Loss: 0.7591\n",
            "Epoch [48/50], Step [500/1747], Loss: 0.1910\n",
            "Epoch [48/50], Step [600/1747], Loss: 0.2086\n",
            "Epoch [48/50], Step [700/1747], Loss: 0.0901\n",
            "Epoch [48/50], Step [800/1747], Loss: 0.7758\n",
            "Epoch [48/50], Step [900/1747], Loss: 0.2304\n",
            "Epoch [48/50], Step [1000/1747], Loss: 0.1358\n",
            "Epoch [48/50], Step [1100/1747], Loss: 0.3763\n",
            "Epoch [48/50], Step [1200/1747], Loss: 0.0452\n",
            "Epoch [48/50], Step [1300/1747], Loss: 0.0545\n",
            "Epoch [48/50], Step [1400/1747], Loss: 0.1433\n",
            "Epoch [48/50], Step [1500/1747], Loss: 0.3284\n",
            "Epoch [48/50], Step [1600/1747], Loss: 0.5074\n",
            "Epoch [48/50], Step [1700/1747], Loss: 0.1078\n",
            "correct: 15520\n",
            "total: 17476\n",
            "Accuracy on Epoch[48/50]: 88%\n",
            "Epoch [49/50], Step [100/1747], Loss: 0.1293\n",
            "Epoch [49/50], Step [200/1747], Loss: 0.2401\n",
            "Epoch [49/50], Step [300/1747], Loss: 0.4872\n",
            "Epoch [49/50], Step [400/1747], Loss: 0.3948\n",
            "Epoch [49/50], Step [500/1747], Loss: 0.2627\n",
            "Epoch [49/50], Step [600/1747], Loss: 0.2693\n",
            "Epoch [49/50], Step [700/1747], Loss: 0.1320\n",
            "Epoch [49/50], Step [800/1747], Loss: 0.9020\n",
            "Epoch [49/50], Step [900/1747], Loss: 0.2188\n",
            "Epoch [49/50], Step [1000/1747], Loss: 0.1329\n",
            "Epoch [49/50], Step [1100/1747], Loss: 0.4432\n",
            "Epoch [49/50], Step [1200/1747], Loss: 0.0972\n",
            "Epoch [49/50], Step [1300/1747], Loss: 0.0536\n",
            "Epoch [49/50], Step [1400/1747], Loss: 0.1437\n",
            "Epoch [49/50], Step [1500/1747], Loss: 0.4984\n",
            "Epoch [49/50], Step [1600/1747], Loss: 0.3176\n",
            "Epoch [49/50], Step [1700/1747], Loss: 0.1169\n",
            "correct: 15679\n",
            "total: 17476\n",
            "Accuracy on Epoch[49/50]: 89%\n",
            "Epoch [50/50], Step [100/1747], Loss: 0.1015\n",
            "Epoch [50/50], Step [200/1747], Loss: 0.2631\n",
            "Epoch [50/50], Step [300/1747], Loss: 0.5785\n",
            "Epoch [50/50], Step [400/1747], Loss: 0.7337\n",
            "Epoch [50/50], Step [500/1747], Loss: 0.1888\n",
            "Epoch [50/50], Step [600/1747], Loss: 0.3043\n",
            "Epoch [50/50], Step [700/1747], Loss: 0.1662\n",
            "Epoch [50/50], Step [800/1747], Loss: 0.4955\n",
            "Epoch [50/50], Step [900/1747], Loss: 0.4558\n",
            "Epoch [50/50], Step [1000/1747], Loss: 0.1731\n",
            "Epoch [50/50], Step [1100/1747], Loss: 0.3998\n",
            "Epoch [50/50], Step [1200/1747], Loss: 0.1421\n",
            "Epoch [50/50], Step [1300/1747], Loss: 0.0351\n",
            "Epoch [50/50], Step [1400/1747], Loss: 0.0865\n",
            "Epoch [50/50], Step [1500/1747], Loss: 0.6425\n",
            "Epoch [50/50], Step [1600/1747], Loss: 0.6003\n",
            "Epoch [50/50], Step [1700/1747], Loss: 0.1247\n",
            "correct: 15529\n",
            "total: 17476\n",
            "Accuracy on Epoch[50/50]: 88%\n"
          ],
          "name": "stdout"
        }
      ]
    },
    {
      "cell_type": "code",
      "metadata": {
        "id": "PRbLYZRkXKDA",
        "colab_type": "code",
        "outputId": "0a061328-d835-4873-f4dd-a82a72d7608a",
        "colab": {
          "base_uri": "https://localhost:8080/",
          "height": 87
        }
      },
      "source": [
        "correct = 0\n",
        "total = 0\n",
        "all_target = None\n",
        "all_output = None\n",
        "all_probs = None\n",
        "one = torch.ones(1).to(device)\n",
        "zero = torch.zeros(1).to(device)\n",
        "threshold = torch.Tensor([0.91]).to(device)  \n",
        "for data, target in test_loader:\n",
        "\n",
        "  outputs = baseline(data.to(device))\n",
        "  total += target.size(0)\n",
        "  correct += (F.log_softmax(outputs).data == target.to(device).data).sum()\n",
        "\n",
        "  if all_target is None:\n",
        "    all_target = target.data.numpy().reshape(target.data.shape[0],-1)\n",
        "    all_output = torch.where(torch.sigmoid(outputs)>threshold,one,zero).cpu().data.numpy()\n",
        "    all_probs = torch.sigmoid(outputs).cpu().data.numpy().reshape(target.data.shape[0],-1)\n",
        "  else:\n",
        "    all_target = np.concatenate((all_target,target.data.numpy().reshape(target.data.shape[0],-1)))\n",
        "    all_output = np.concatenate((all_output,torch.where(torch.sigmoid(outputs)>threshold,one,zero).cpu().data.numpy()))\n",
        "    all_probs = np.concatenate((all_probs, torch.sigmoid(outputs).cpu().data.numpy().reshape(target.data.shape[0],-1)))\n",
        "print('Test Accuracy of the model on the test: %d %%' % (100 * correct / total))"
      ],
      "execution_count": 200,
      "outputs": [
        {
          "output_type": "stream",
          "text": [
            "Test Accuracy of the model on the test: 97 %\n"
          ],
          "name": "stdout"
        },
        {
          "output_type": "stream",
          "text": [
            "/usr/local/lib/python3.6/dist-packages/ipykernel_launcher.py:13: UserWarning: Implicit dimension choice for log_softmax has been deprecated. Change the call to include dim=X as an argument.\n",
            "  del sys.path[0]\n"
          ],
          "name": "stderr"
        }
      ]
    },
    {
      "cell_type": "markdown",
      "metadata": {
        "id": "dqq8Dc0eIEvJ",
        "colab_type": "text"
      },
      "source": [
        "#### Confusion Matrix"
      ]
    },
    {
      "cell_type": "code",
      "metadata": {
        "id": "bgUnUqokDOgU",
        "colab_type": "code",
        "outputId": "06f7229a-3b9c-46bf-8002-952cb27501af",
        "colab": {
          "base_uri": "https://localhost:8080/",
          "height": 273
        }
      },
      "source": [
        "cm = confusion_matrix(all_output, all_target)\n",
        "df_cm = pd.DataFrame(cm, range(2), range(2))\n",
        "# plt.figure(figsize=(10,7))\n",
        "sns.set(font_scale=1.4) # for label size\n",
        "sns.heatmap(df_cm, annot=True, annot_kws={\"size\": 16}) # font size\n",
        "\n",
        "plt.show()"
      ],
      "execution_count": 201,
      "outputs": [
        {
          "output_type": "display_data",
          "data": {
            "image/png": "[encoded data removed]",
            "text/plain": [
              "<Figure size 432x288 with 2 Axes>"
            ]
          },
          "metadata": {
            "tags": []
          }
        }
      ]
    },
    {
      "cell_type": "markdown",
      "metadata": {
        "id": "FFLSVy5JEjxM",
        "colab_type": "text"
      },
      "source": [
        "#### CLassification report"
      ]
    },
    {
      "cell_type": "code",
      "metadata": {
        "id": "ZV_j87gAIPy2",
        "colab_type": "code",
        "outputId": "fb2b5888-8199-453e-9ce9-32523eb453cd",
        "colab": {
          "base_uri": "https://localhost:8080/",
          "height": 168
        }
      },
      "source": [
        "print(classification_report(all_target, all_output))"
      ],
      "execution_count": 203,
      "outputs": [
        {
          "output_type": "stream",
          "text": [
            "              precision    recall  f1-score   support\n",
            "\n",
            "         0.0       1.00      0.96      0.98      2185\n",
            "         1.0       0.35      0.92      0.50        52\n",
            "\n",
            "    accuracy                           0.96      2237\n",
            "   macro avg       0.67      0.94      0.74      2237\n",
            "weighted avg       0.98      0.96      0.97      2237\n",
            "\n"
          ],
          "name": "stdout"
        }
      ]
    },
    {
      "cell_type": "code",
      "metadata": {
        "id": "1cLtErTXIZJe",
        "colab_type": "code",
        "outputId": "cdd6cecc-30ce-4a34-d015-766e48fde6ee",
        "colab": {
          "base_uri": "https://localhost:8080/",
          "height": 273
        }
      },
      "source": [
        "cm = confusion_matrix(all_output, all_target, normalize='pred')\n",
        "df_cm = pd.DataFrame(cm, range(2), range(2))\n",
        "# plt.figure(figsize=(10,7))\n",
        "sns.set(font_scale=1.4) # for label size\n",
        "sns.heatmap(df_cm, annot=True, annot_kws={\"size\": 16}) # font size\n",
        "\n",
        "plt.show()"
      ],
      "execution_count": 204,
      "outputs": [
        {
          "output_type": "display_data",
          "data": {
            "image/png": "[encoded data removed]",
            "text/plain": [
              "<Figure size 432x288 with 2 Axes>"
            ]
          },
          "metadata": {
            "tags": []
          }
        }
      ]
    },
    {
      "cell_type": "code",
      "metadata": {
        "id": "liSLse9hkEBZ",
        "colab_type": "code",
        "colab": {}
      },
      "source": [
        "fpr, tpr, thresholds = roc_curve(y_test, all_probs,)"
      ],
      "execution_count": 0,
      "outputs": []
    },
    {
      "cell_type": "code",
      "metadata": {
        "id": "gwU4uXqh1GpI",
        "colab_type": "code",
        "outputId": "aee78310-f909-436a-aa3b-a428749e7298",
        "colab": {
          "base_uri": "https://localhost:8080/",
          "height": 290
        }
      },
      "source": [
        "plt.plot(thresholds, tpr)"
      ],
      "execution_count": 206,
      "outputs": [
        {
          "output_type": "execute_result",
          "data": {
            "text/plain": [
              "[<matplotlib.lines.Line2D at 0x7fac4bb35b70>]"
            ]
          },
          "metadata": {
            "tags": []
          },
          "execution_count": 206
        },
        {
          "output_type": "display_data",
          "data": {
            "image/png": "[encoded data removed]",
            "text/plain": [
              "<Figure size 432x288 with 1 Axes>"
            ]
          },
          "metadata": {
            "tags": []
          }
        }
      ]
    },
    {
      "cell_type": "code",
      "metadata": {
        "id": "juDCY-Z-1PKQ",
        "colab_type": "code",
        "outputId": "f4941a60-8a2d-46d7-9efb-6466a0c28900",
        "colab": {
          "base_uri": "https://localhost:8080/",
          "height": 290
        }
      },
      "source": [
        "plt.plot(thresholds, fpr)"
      ],
      "execution_count": 207,
      "outputs": [
        {
          "output_type": "execute_result",
          "data": {
            "text/plain": [
              "[<matplotlib.lines.Line2D at 0x7fac4b868400>]"
            ]
          },
          "metadata": {
            "tags": []
          },
          "execution_count": 207
        },
        {
          "output_type": "display_data",
          "data": {
            "image/png": "[encoded data removed]",
            "text/plain": [
              "<Figure size 432x288 with 1 Axes>"
            ]
          },
          "metadata": {
            "tags": []
          }
        }
      ]
    },
    {
      "cell_type": "code",
      "metadata": {
        "id": "ZmMIMrJD1S-Z",
        "colab_type": "code",
        "outputId": "67700e9e-544e-4469-fffe-e504c5e81eb1",
        "colab": {
          "base_uri": "https://localhost:8080/",
          "height": 290
        }
      },
      "source": [
        "plt.plot(fpr,tpr)"
      ],
      "execution_count": 208,
      "outputs": [
        {
          "output_type": "execute_result",
          "data": {
            "text/plain": [
              "[<matplotlib.lines.Line2D at 0x7fac4b758c18>]"
            ]
          },
          "metadata": {
            "tags": []
          },
          "execution_count": 208
        },
        {
          "output_type": "display_data",
          "data": {
            "image/png": "[encoded data removed]",
            "text/plain": [
              "<Figure size 432x288 with 1 Axes>"
            ]
          },
          "metadata": {
            "tags": []
          }
        }
      ]
    },
    {
      "cell_type": "code",
      "metadata": {
        "id": "-wjjYdwA1zL9",
        "colab_type": "code",
        "outputId": "0a50f188-ccab-4ec7-b439-b69b6ddb2762",
        "colab": {
          "base_uri": "https://localhost:8080/",
          "height": 34
        }
      },
      "source": [
        "auc_score = auc(fpr,tpr)\n",
        "auc_score"
      ],
      "execution_count": 209,
      "outputs": [
        {
          "output_type": "execute_result",
          "data": {
            "text/plain": [
              "0.968773103326879"
            ]
          },
          "metadata": {
            "tags": []
          },
          "execution_count": 209
        }
      ]
    },
    {
      "cell_type": "code",
      "metadata": {
        "id": "mFqFho562KZ6",
        "colab_type": "code",
        "colab": {}
      },
      "source": [
        ""
      ],
      "execution_count": 0,
      "outputs": []
    }
  ]
}